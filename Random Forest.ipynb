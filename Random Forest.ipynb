{
 "cells": [
  {
   "cell_type": "code",
   "execution_count": 4,
   "metadata": {},
   "outputs": [],
   "source": [
    "import numpy as np\n",
    "from sklearn.linear_model import LinearRegression\n",
    "import pandas as pd\n",
    "import matplotlib.pyplot as plt\n",
    "from sklearn.metrics import mean_squared_error\n",
    "from sklearn.metrics import r2_score\n",
    "from sklearn.ensemble import RandomForestRegressor\n",
    "from sklearn.model_selection import cross_val_score\n",
    "from sklearn.metrics import average_precision_score\n",
    "from sklearn.metrics import precision_recall_curve\n",
    "from sklearn.utils.fixes import signature\n",
    "from sklearn.metrics import recall_score\n",
    "from sklearn.metrics import precision_score\n",
    "from sklearn.metrics import f1_score\n",
    "from sklearn.ensemble import RandomForestClassifier"
   ]
  },
  {
   "cell_type": "code",
   "execution_count": 5,
   "metadata": {},
   "outputs": [],
   "source": [
    "cleanmeta = pd.read_csv(\"actormetaMonths.csv\")\n",
    "cleanmeta = cleanmeta[['budget','revenue','popularity','runtime','castRevBudRatio','january','february','march','april','may','june','july','august','september','october','november','december']]\n",
    "cleanmeta = cleanmeta.dropna()\n",
    "cleanmeta = cleanmeta.reset_index()\n",
    "X = cleanmeta[['budget','popularity','runtime','castRevBudRatio','january','february','march','april','may','june','july','august','september','october','november','december']].values\n",
    "y = cleanmeta['revenue']/cleanmeta['budget'].values"
   ]
  },
  {
   "cell_type": "code",
   "execution_count": 6,
   "metadata": {},
   "outputs": [],
   "source": [
    "X_train = X[:4500]\n",
    "X_test = X[4500:]\n",
    "\n",
    "y_train = y[:4500]\n",
    "y_test = y[4500:]"
   ]
  },
  {
   "cell_type": "code",
   "execution_count": 7,
   "metadata": {},
   "outputs": [],
   "source": [
    "#2 is near median of y\n",
    "for i in range(0,len(y)):\n",
    "    if y[i] > 2:\n",
    "        y[i] = 1 #success\n",
    "    else:\n",
    "        y[i] = 0 #failure"
   ]
  },
  {
   "cell_type": "code",
   "execution_count": 8,
   "metadata": {},
   "outputs": [
    {
     "data": {
      "text/plain": [
       "'\\nn_estimators\\nThe number of trees in the forest.\\n'"
      ]
     },
     "execution_count": 8,
     "metadata": {},
     "output_type": "execute_result"
    }
   ],
   "source": [
    "\"\"\"\n",
    "n_estimators\n",
    "The number of trees in the forest.\n",
    "\"\"\""
   ]
  },
  {
   "cell_type": "code",
   "execution_count": 9,
   "metadata": {
    "scrolled": true
   },
   "outputs": [],
   "source": [
    "rf_100 = RandomForestClassifier(n_estimators=100)#, max_depth=2, random_state=0)\n",
    "rf_100.fit(X_train, y_train)\n",
    "y_pred_100 = rf_100.predict(X_test)\n",
    "scores_100 = cross_val_score(rf_100, X_test, y_test, cv=10).mean()\n",
    "p_100 = cross_val_score(rf_100 , X_test, y_test, cv=10, scoring='precision').mean()\n",
    "r_100 = cross_val_score(rf_100 , X_test, y_test, cv=10, scoring='recall').mean()\n",
    "f1_100 = cross_val_score(rf_100 , X_test, y_test, cv=10, scoring='f1').mean()"
   ]
  },
  {
   "cell_type": "code",
   "execution_count": 10,
   "metadata": {},
   "outputs": [],
   "source": [
    "rf_200 = RandomForestClassifier(n_estimators=200)\n",
    "rf_200.fit(X_train, y_train)\n",
    "y_pred_200 = rf_200.predict(X_test)\n",
    "scores_200 = cross_val_score(rf_200, X_test, y_test, cv=10).mean()\n",
    "p_200 = cross_val_score(rf_200 , X_test, y_test, cv=10, scoring='precision').mean()\n",
    "r_200 = cross_val_score(rf_200 , X_test, y_test, cv=10, scoring='recall').mean()\n",
    "f1_200 = cross_val_score(rf_200 , X_test, y_test, cv=10, scoring='f1').mean()"
   ]
  },
  {
   "cell_type": "code",
   "execution_count": 11,
   "metadata": {},
   "outputs": [],
   "source": [
    "rf_300 = RandomForestClassifier(n_estimators=300)\n",
    "rf_300.fit(X_train, y_train)\n",
    "y_pred_300 = rf_300.predict(X_test)\n",
    "scores_300 = cross_val_score(rf_300, X_test, y_test, cv=10).mean()\n",
    "p_300  = cross_val_score(rf_300  , X_test, y_test, cv=10, scoring='precision').mean()\n",
    "r_300  = cross_val_score(rf_300  , X_test, y_test, cv=10, scoring='recall').mean()\n",
    "f1_300  = cross_val_score(rf_300  , X_test, y_test, cv=10, scoring='f1').mean()"
   ]
  },
  {
   "cell_type": "code",
   "execution_count": 12,
   "metadata": {},
   "outputs": [],
   "source": [
    "rf_400 = RandomForestClassifier(n_estimators=400)\n",
    "rf_400.fit(X_train, y_train)\n",
    "y_pred_400 = rf_400.predict(X_test)\n",
    "scores_400 = cross_val_score(rf_400, X_test, y_test, cv=10).mean()\n",
    "p_400 = cross_val_score(rf_400 , X_test, y_test, cv=10, scoring='precision').mean()\n",
    "r_400 = cross_val_score(rf_400 , X_test, y_test, cv=10, scoring='recall').mean()\n",
    "f1_400 = cross_val_score(rf_400 , X_test, y_test, cv=10, scoring='f1').mean()"
   ]
  },
  {
   "cell_type": "code",
   "execution_count": 13,
   "metadata": {},
   "outputs": [],
   "source": [
    "rf_500 = RandomForestClassifier(n_estimators=400)\n",
    "rf_500.fit(X_train, y_train)\n",
    "y_pred_500 = rf_500.predict(X_test)\n",
    "scores_500 = cross_val_score(rf_500, X_test, y_test, cv=10).mean()\n",
    "p_500 = cross_val_score(rf_500 , X_test, y_test, cv=10, scoring='precision').mean()\n",
    "r_500 = cross_val_score(rf_500 , X_test, y_test, cv=10, scoring='recall').mean()\n",
    "f1_500 = cross_val_score(rf_500 , X_test, y_test, cv=10, scoring='f1').mean()"
   ]
  },
  {
   "cell_type": "code",
   "execution_count": 14,
   "metadata": {
    "scrolled": false
   },
   "outputs": [
    {
     "data": {
      "image/png": "[encoded data removed]",
      "text/plain": [
       "<Figure size 432x288 with 1 Axes>"
      ]
     },
     "metadata": {
      "needs_background": "light"
     },
     "output_type": "display_data"
    }
   ],
   "source": [
    "N = 5\n",
    "\n",
    "ind = np.arange(N)\n",
    "width = 0.15\n",
    "fig, ax = plt.subplots()\n",
    "\n",
    "accu = [scores_100,scores_200,scores_300,scores_400,scores_500]\n",
    "rects1 = ax.bar(ind, accu, width, color='b')\n",
    "prec = [p_100,p_200,p_300,p_400,p_500]\n",
    "rects2 = ax.bar(ind+width, prec, width, color='y')\n",
    "rec = [r_100,r_200,r_300,r_400,r_500]\n",
    "rects3 = ax.bar(ind + 2 * width, rec, width, color='r')\n",
    "f1score = [f1_100,f1_200,f1_300,f1_400,f1_500]\n",
    "rects4 = ax.bar(ind+ 3 * width, f1score,  width, color='g')\n",
    "\n",
    "ax.set_ylabel('Score')\n",
    "ax.set_xlabel('n_estimator')\n",
    "ax.set_title('Scores for diffrent n_estimators')\n",
    "ax.set_xticks(ind + 1.5*width)\n",
    "ax.set_xticklabels(('100', '200','300','400','500'))\n",
    "ax.legend((rects1[0], rects2[0], rects3[0],rects4[0]), ('Accuracy', 'Precision', 'Recall','f1 Score'),loc=4)\n",
    "plt.show()"
   ]
  },
  {
   "cell_type": "code",
   "execution_count": 15,
   "metadata": {
    "scrolled": true
   },
   "outputs": [
    {
     "data": {
      "text/plain": [
       "[0.6027495509140219,\n",
       " 0.59705379052047,\n",
       " 0.605073937750226,\n",
       " 0.6141909701431205,\n",
       " 0.6141140678383995]"
      ]
     },
     "execution_count": 15,
     "metadata": {},
     "output_type": "execute_result"
    }
   ],
   "source": [
    "accu"
   ]
  },
  {
   "cell_type": "markdown",
   "metadata": {},
   "source": [
    "n_estimators=400 performs better than other parameter average"
   ]
  },
  {
   "cell_type": "code",
   "execution_count": 16,
   "metadata": {},
   "outputs": [
    {
     "data": {
      "text/plain": [
       "'\\nMax features\\n'"
      ]
     },
     "execution_count": 16,
     "metadata": {},
     "output_type": "execute_result"
    }
   ],
   "source": [
    "\"\"\"\n",
    "Max features\n",
    "\"\"\""
   ]
  },
  {
   "cell_type": "code",
   "execution_count": 17,
   "metadata": {
    "scrolled": true
   },
   "outputs": [],
   "source": [
    "rf = RandomForestClassifier(n_estimators=400)# default auto, sqrt\n",
    "rf.fit(X_train, y_train)\n",
    "y_pred = rf.predict(X_test)\n",
    "scores = cross_val_score(rf, X_test, y_test, cv=10).mean()\n",
    "p = cross_val_score(rf , X_test, y_test, cv=10, scoring='precision').mean()\n",
    "r = cross_val_score(rf , X_test, y_test, cv=10, scoring='recall').mean()\n",
    "f1 = cross_val_score(rf , X_test, y_test, cv=10, scoring='f1').mean()"
   ]
  },
  {
   "cell_type": "code",
   "execution_count": 18,
   "metadata": {},
   "outputs": [],
   "source": [
    "rf_log2 = RandomForestClassifier(n_estimators=400, max_features = 'log2')\n",
    "rf_log2.fit(X_train, y_train)\n",
    "y_pred_log2 = rf_log2.predict(X_test)\n",
    "scores_log2 = cross_val_score(rf_log2, X_test, y_test, cv=10).mean()\n",
    "p_log2 = cross_val_score(rf_log2 , X_test, y_test, cv=10, scoring='precision').mean()\n",
    "r_log2 = cross_val_score(rf_log2 , X_test, y_test, cv=10, scoring='recall').mean()\n",
    "f1_log2 = cross_val_score(rf_log2 , X_test, y_test, cv=10, scoring='f1').mean()"
   ]
  },
  {
   "cell_type": "code",
   "execution_count": 19,
   "metadata": {},
   "outputs": [],
   "source": [
    "rf_none = RandomForestClassifier(n_estimators=400, max_features = None)\n",
    "rf_none.fit(X_train, y_train)\n",
    "y_pred_none = rf_none.predict(X_test)\n",
    "scores_none = cross_val_score(rf_none, X_test, y_test, cv=10).mean()\n",
    "p_none = cross_val_score(rf_none , X_test, y_test, cv=10, scoring='precision').mean()\n",
    "r_none = cross_val_score(rf_none , X_test, y_test, cv=10, scoring='recall').mean()\n",
    "f1_none = cross_val_score(rf_none , X_test, y_test, cv=10, scoring='f1').mean()"
   ]
  },
  {
   "cell_type": "code",
   "execution_count": 20,
   "metadata": {
    "scrolled": true
   },
   "outputs": [
    {
     "data": {
      "image/png": "[encoded data removed]",
      "text/plain": [
       "<Figure size 432x288 with 1 Axes>"
      ]
     },
     "metadata": {
      "needs_background": "light"
     },
     "output_type": "display_data"
    }
   ],
   "source": [
    "N = 3\n",
    "\n",
    "ind = np.arange(N)\n",
    "width = 0.15\n",
    "fig, ax = plt.subplots()\n",
    "\n",
    "accu = [scores,scores_log2,scores_none]\n",
    "rects1 = ax.bar(ind, accu, width, color='b')\n",
    "prec = [p,p_log2,p_none]\n",
    "rects2 = ax.bar(ind+width, prec, width, color='y')\n",
    "rec = [r,r_log2,r_none]\n",
    "rects3 = ax.bar(ind + 2 * width, rec, width, color='r')\n",
    "f1score = [f1,f1_log2,f1_none]\n",
    "rects4 = ax.bar(ind+ 3 * width, f1score,  width, color='g')\n",
    "\n",
    "ax.set_ylabel('Score')\n",
    "ax.set_xlabel('max_feature')\n",
    "ax.set_title('Scores for diffrent max features')\n",
    "ax.set_xticks(ind + 1.5*width)\n",
    "ax.set_xticklabels(('sqrt','log2','none'))\n",
    "ax.legend((rects1[0], rects2[0], rects3[0],rects4[0]), ('Accuracy', 'Precision', 'Recall','f1 Score'),loc=4)\n",
    "\n",
    "plt.show()"
   ]
  },
  {
   "cell_type": "code",
   "execution_count": 21,
   "metadata": {
    "scrolled": false
   },
   "outputs": [
    {
     "data": {
      "text/plain": [
       "[0.6085349817430407, 0.6016900895823794, 0.6174848543552536]"
      ]
     },
     "execution_count": 21,
     "metadata": {},
     "output_type": "execute_result"
    }
   ],
   "source": [
    "accu"
   ]
  },
  {
   "cell_type": "markdown",
   "metadata": {},
   "source": [
    "Max feature = none outperform others by about 1%   "
   ]
  },
  {
   "cell_type": "code",
   "execution_count": 22,
   "metadata": {},
   "outputs": [],
   "source": [
    "rf = RandomForestClassifier(n_estimators=400,max_features = None)# default auto, sqrt\n",
    "rf.fit(X_train, y_train)\n",
    "y_pred = rf.predict(X_test)\n",
    "scores = cross_val_score(rf, X_test, y_test, cv=10).mean()\n",
    "p = cross_val_score(rf , X_test, y_test, cv=10, scoring='precision').mean()\n",
    "r = cross_val_score(rf , X_test, y_test, cv=10, scoring='recall').mean()\n",
    "f1 = cross_val_score(rf , X_test, y_test, cv=10, scoring='f1').mean()"
   ]
  },
  {
   "cell_type": "code",
   "execution_count": 23,
   "metadata": {
    "scrolled": true
   },
   "outputs": [
    {
     "data": {
      "image/png": "[encoded data removed]",
      "text/plain": [
       "<Figure size 432x288 with 1 Axes>"
      ]
     },
     "metadata": {
      "needs_background": "light"
     },
     "output_type": "display_data"
    }
   ],
   "source": [
    "objects = scores,p,r,f1\n",
    "y_pos = np.arange(len(objects))\n",
    " \n",
    "plt.bar(y_pos, objects, align='center', alpha=0.5)\n",
    "plt.xticks([0, 1, 2, 3], [\"accuracy\", \"precision\", \"recall\", \"f1-score\"])\n",
    "plt.ylabel('Score')\n",
    "plt.xlabel('Model')\n",
    "plt.title('Random Forest Model Scores')\n",
    " \n",
    "plt.show()"
   ]
  },
  {
   "cell_type": "code",
   "execution_count": 27,
   "metadata": {},
   "outputs": [
    {
     "data": {
      "text/plain": [
       "(0.6004512873798035,\n",
       " 0.6227619787960517,\n",
       " 0.5687632135306554,\n",
       " 0.6040238882890906)"
      ]
     },
     "execution_count": 27,
     "metadata": {},
     "output_type": "execute_result"
    }
   ],
   "source": [
    "objects"
   ]
  },
  {
   "cell_type": "code",
   "execution_count": 24,
   "metadata": {
    "scrolled": true
   },
   "outputs": [
    {
     "name": "stdout",
     "output_type": "stream",
     "text": [
      "Feature ranking:\n",
      "1. feature 1 (0.275629)\n",
      "2. feature 3 (0.237038)\n",
      "3. feature 0 (0.186930)\n",
      "4. feature 2 (0.152157)\n",
      "5. feature 12 (0.015427)\n",
      "6. feature 15 (0.013373)\n",
      "7. feature 9 (0.012980)\n",
      "8. feature 8 (0.012725)\n",
      "9. feature 10 (0.012513)\n",
      "10. feature 5 (0.012396)\n",
      "11. feature 7 (0.012287)\n",
      "12. feature 11 (0.011919)\n",
      "13. feature 13 (0.011901)\n",
      "14. feature 6 (0.011550)\n",
      "15. feature 4 (0.011094)\n",
      "16. feature 14 (0.010081)\n"
     ]
    },
    {
     "data": {
      "image/png": "[encoded data removed]",
      "text/plain": [
       "<Figure size 432x288 with 1 Axes>"
      ]
     },
     "metadata": {
      "needs_background": "light"
     },
     "output_type": "display_data"
    }
   ],
   "source": [
    "# Build a forest and compute the feature importances\n",
    "\n",
    "importances = rf.feature_importances_\n",
    "std = np.std([tree.feature_importances_ for tree in rf.estimators_],\n",
    "             axis=0)\n",
    "indices = np.argsort(importances)[::-1]\n",
    "\n",
    "# Print the feature ranking\n",
    "print(\"Feature ranking:\")\n",
    "\n",
    "for f in range(X.shape[1]):\n",
    "    print(\"%d. feature %d (%f)\" % (f + 1, indices[f], importances[indices[f]]))\n",
    "\n",
    "# Plot the feature importances of the forest\n",
    "plt.figure()\n",
    "plt.title(\"Feature importances\")\n",
    "plt.xlabel('Score')\n",
    "plt.ylabel(\"Feature ID\")\n",
    "plt.bar(range(X.shape[1]), importances[indices],\n",
    "       color=\"r\", yerr=std[indices], align=\"center\")\n",
    "plt.xticks(range(X.shape[1]), indices)\n",
    "plt.xlim([-1, X.shape[1]])\n",
    "plt.show()"
   ]
  },
  {
   "cell_type": "markdown",
   "metadata": {},
   "source": [
    "'budget','popularity','runtime','castRevBudRatio','january','february','march','april','may','june','july','august','september','october','november','december'"
   ]
  },
  {
   "cell_type": "code",
   "execution_count": 25,
   "metadata": {},
   "outputs": [
    {
     "data": {
      "text/plain": [
       "12"
      ]
     },
     "execution_count": 25,
     "metadata": {},
     "output_type": "execute_result"
    }
   ],
   "source": [
    "12"
   ]
  }
 ],
 "metadata": {
  "kernelspec": {
   "display_name": "Python 3",
   "language": "python",
   "name": "python3"
  },
  "language_info": {
   "codemirror_mode": {
    "name": "ipython",
    "version": 3
   },
   "file_extension": ".py",
   "mimetype": "text/x-python",
   "name": "python",
   "nbconvert_exporter": "python",
   "pygments_lexer": "ipython3",
   "version": "3.7.0"
  }
 },
 "nbformat": 4,
 "nbformat_minor": 2
}
