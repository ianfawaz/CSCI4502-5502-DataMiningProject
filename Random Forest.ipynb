{
 "cells": [
  {
   "cell_type": "code",
   "execution_count": 6,
   "metadata": {},
   "outputs": [],
   "source": [
    "import numpy as np\n",
    "from sklearn.linear_model import LinearRegression\n",
    "import pandas as pd\n",
    "import matplotlib.pyplot as plt\n",
    "from sklearn.metrics import mean_squared_error\n",
    "from sklearn.metrics import r2_score\n",
    "from sklearn.ensemble import RandomForestRegressor\n",
    "from sklearn.model_selection import cross_val_score\n",
    "from sklearn.metrics import average_precision_score\n",
    "from sklearn.metrics import precision_recall_curve\n",
    "from sklearn.utils.fixes import signature\n",
    "from sklearn.metrics import recall_score\n",
    "from sklearn.metrics import precision_score\n",
    "from sklearn.metrics import f1_score\n",
    "from sklearn.ensemble import RandomForestClassifier"
   ]
  },
  {
   "cell_type": "code",
   "execution_count": 2,
   "metadata": {},
   "outputs": [],
   "source": [
    "cleanmeta = pd.read_csv(\"actormetaMonths.csv\")\n",
    "cleanmeta = cleanmeta[['budget','revenue','popularity','runtime','castRevBudRatio','january','february','march','april','may','june','july','august','september','october','november','december']]\n",
    "cleanmeta = cleanmeta.dropna()\n",
    "cleanmeta = cleanmeta.reset_index()\n",
    "X = cleanmeta.values\n",
    "y = cleanmeta['revenue']/cleanmeta['budget'].values"
   ]
  },
  {
   "cell_type": "code",
   "execution_count": 3,
   "metadata": {},
   "outputs": [],
   "source": [
    "X_train = X[:4500]\n",
    "X_test = X[4500:]\n",
    "\n",
    "y_train = y[:4500]\n",
    "y_test = y[4500:]"
   ]
  },
  {
   "cell_type": "code",
   "execution_count": 4,
   "metadata": {},
   "outputs": [],
   "source": [
    "#2 is near median of y\n",
    "for i in range(0,len(y)):\n",
    "    if y[i] > 2:\n",
    "        y[i] = 0 #success\n",
    "    else:\n",
    "        y[i] = 1 #failure"
   ]
  },
  {
   "cell_type": "code",
   "execution_count": 9,
   "metadata": {
    "scrolled": true
   },
   "outputs": [],
   "source": [
    "#forest = RandomForestRegressor(max_depth=2, random_state=0,n_estimators=100)\n",
    "#forest.fit(X_train, y_train)\n",
    "\n"
   ]
  },
  {
   "cell_type": "code",
   "execution_count": 19,
   "metadata": {},
   "outputs": [
    {
     "data": {
      "text/plain": [
       "'\\nn_estimators\\n'"
      ]
     },
     "execution_count": 19,
     "metadata": {},
     "output_type": "execute_result"
    }
   ],
   "source": [
    "\"\"\"\n",
    "n_estimators\n",
    "The number of trees in the forest.\n",
    "\"\"\""
   ]
  },
  {
   "cell_type": "code",
   "execution_count": 32,
   "metadata": {
    "scrolled": true
   },
   "outputs": [],
   "source": [
    "rf_100 = RandomForestClassifier(n_estimators=100)#, max_depth=2, random_state=0)\n",
    "rf_100.fit(X_train, y_train)\n",
    "y_pred_100 = rf_100.predict(X_test)\n",
    "scores_100 = cross_val_score(rf_100, X_test, y_test, cv=10).mean()\n",
    "r_100 =recall_score(y_test, y_pred_100)  \n",
    "p_100 =precision_score(y_test, y_pred_100)  \n",
    "f1_100 =f1_score(y_test, y_pred_100)"
   ]
  },
  {
   "cell_type": "code",
   "execution_count": 33,
   "metadata": {},
   "outputs": [],
   "source": [
    "rf_200 = RandomForestClassifier(n_estimators=200)\n",
    "rf_200.fit(X_train, y_train)\n",
    "y_pred_200 = rf_200.predict(X_test)\n",
    "scores_200 = cross_val_score(rf_200, X_test, y_test, cv=10).mean()\n",
    "r_200 =recall_score(y_test, y_pred_200)  \n",
    "p_200 =precision_score(y_test, y_pred_200)  \n",
    "f1_200 =f1_score(y_test, y_pred_200)"
   ]
  },
  {
   "cell_type": "code",
   "execution_count": 34,
   "metadata": {},
   "outputs": [],
   "source": [
    "rf_300 = RandomForestClassifier(n_estimators=300)\n",
    "rf_300.fit(X_train, y_train)\n",
    "y_pred_300 = rf_300.predict(X_test)\n",
    "scores_300 = cross_val_score(rf_300, X_test, y_test, cv=10).mean()\n",
    "r_300 =recall_score(y_test, y_pred_300)  \n",
    "p_300 =precision_score(y_test, y_pred_300)  \n",
    "f1_300 =f1_score(y_test, y_pred_300)"
   ]
  },
  {
   "cell_type": "code",
   "execution_count": 35,
   "metadata": {},
   "outputs": [],
   "source": [
    "rf_400 = RandomForestClassifier(n_estimators=400)\n",
    "rf_400.fit(X_train, y_train)\n",
    "y_pred_400 = rf_400.predict(X_test)\n",
    "scores_400 = cross_val_score(rf_400, X_test, y_test, cv=10).mean()\n",
    "r_400 =recall_score(y_test, y_pred_400)  \n",
    "p_400 =precision_score(y_test, y_pred_400)  \n",
    "f1_400 =f1_score(y_test, y_pred_400)"
   ]
  },
  {
   "cell_type": "code",
   "execution_count": 37,
   "metadata": {
    "scrolled": true
   },
   "outputs": [
    {
     "data": {
      "image/png": "[encoded data removed]",
      "text/plain": [
       "<Figure size 432x288 with 1 Axes>"
      ]
     },
     "metadata": {
      "needs_background": "light"
     },
     "output_type": "display_data"
    }
   ],
   "source": [
    "N = 4\n",
    "\n",
    "ind = np.arange(N)\n",
    "width = 0.15\n",
    "fig, ax = plt.subplots()\n",
    "\n",
    "accu = [scores_100,scores_200,scores_300,scores_400]\n",
    "rects1 = ax.bar(ind, accu, width, color='b')\n",
    "prec = [p_100,p_200,p_300,p_400]\n",
    "rects2 = ax.bar(ind+width, prec, width, color='y')\n",
    "rec = [r_100,r_200,r_300,r_400]\n",
    "rects3 = ax.bar(ind + 2 * width, rec, width, color='r')\n",
    "f1score = [f1_100,f1_200,f1_300,f1_400]\n",
    "rects4 = ax.bar(ind+ 3 * width, f1score,  width, color='g')\n",
    "\n",
    "ax.set_ylabel('Scores')\n",
    "ax.set_title('Scores for each penalty')\n",
    "ax.set_xticks(ind + 1.5*width)\n",
    "ax.set_xticklabels(('L1', 'L2'))\n",
    "ax.legend((rects1[0], rects2[0], rects3[0]), ('Accuracy', 'Precision', 'Recall'))\n",
    "\n",
    "plt.show()"
   ]
  },
  {
   "cell_type": "markdown",
   "metadata": {},
   "source": [
    "n_estimators=300 has highest accuracy 0.8786069235555869"
   ]
  },
  {
   "cell_type": "code",
   "execution_count": 45,
   "metadata": {
    "scrolled": true
   },
   "outputs": [
    {
     "name": "stdout",
     "output_type": "stream",
     "text": [
      "0.8614575628426848\n"
     ]
    }
   ],
   "source": [
    "rf_100 = RandomForestClassifier(n_estimators=100, max_depth = 100)#, max_depth=2, random_state=0)\n",
    "rf_100.fit(X_train, y_train)\n",
    "y_pred_100 = rf_100.predict(X_test)\n",
    "scores_100 = cross_val_score(rf_100, X_test, y_test, cv=10).mean()\n",
    "#r_100 =recall_score(y_test, y_pred_100)  \n",
    "#p_100 =precision_score(y_test, y_pred_100)  \n",
    "#f1_100 =f1_score(y_test, y_pred_100)\n",
    "print(scores_100)"
   ]
  },
  {
   "cell_type": "code",
   "execution_count": 39,
   "metadata": {},
   "outputs": [
    {
     "name": "stdout",
     "output_type": "stream",
     "text": [
      "0.8649313749662453\n"
     ]
    }
   ],
   "source": []
  },
  {
   "cell_type": "code",
   "execution_count": null,
   "metadata": {},
   "outputs": [],
   "source": [
    "\"\"\"\n",
    "Penalty param\n",
    "\"\"\"\n",
    "lr = LogisticRegression(random_state=0)\n",
    "lr.fit(X_train,y_train)\n",
    "y_pred = lr.predict(X_test)\n",
    "scores = cross_val_score(lr, X_test, y_test, cv=10).mean()\n",
    "r =recall_score(y_test, y_pred)  \n",
    "p =precision_score(y_test, y_pred)  \n",
    "f1 =f1_score(y_test, y_pred)  "
   ]
  },
  {
   "cell_type": "code",
   "execution_count": null,
   "metadata": {},
   "outputs": [],
   "source": []
  },
  {
   "cell_type": "code",
   "execution_count": null,
   "metadata": {},
   "outputs": [],
   "source": []
  },
  {
   "cell_type": "code",
   "execution_count": null,
   "metadata": {},
   "outputs": [],
   "source": []
  },
  {
   "cell_type": "code",
   "execution_count": 14,
   "metadata": {},
   "outputs": [
    {
     "name": "stdout",
     "output_type": "stream",
     "text": [
      "Feature ranking:\n",
      "1. feature 2 (0.456730)\n",
      "2. feature 3 (0.167613)\n",
      "3. feature 1 (0.115635)\n",
      "4. feature 5 (0.114696)\n",
      "5. feature 0 (0.051421)\n",
      "6. feature 11 (0.035770)\n",
      "7. feature 14 (0.028700)\n",
      "8. feature 4 (0.019778)\n",
      "9. feature 15 (0.002522)\n",
      "10. feature 17 (0.002329)\n",
      "11. feature 10 (0.001756)\n",
      "12. feature 12 (0.001352)\n",
      "13. feature 7 (0.000832)\n",
      "14. feature 13 (0.000527)\n",
      "15. feature 16 (0.000272)\n",
      "16. feature 8 (0.000065)\n",
      "17. feature 6 (0.000000)\n",
      "18. feature 9 (0.000000)\n"
     ]
    },
    {
     "data": {
      "image/png": "[encoded data removed]",
      "text/plain": [
       "<Figure size 432x288 with 1 Axes>"
      ]
     },
     "metadata": {
      "needs_background": "light"
     },
     "output_type": "display_data"
    }
   ],
   "source": [
    "# Build a forest and compute the feature importances\n",
    "\n",
    "importances = rf.feature_importances_\n",
    "std = np.std([tree.feature_importances_ for tree in rf.estimators_],\n",
    "             axis=0)\n",
    "indices = np.argsort(importances)[::-1]\n",
    "\n",
    "# Print the feature ranking\n",
    "print(\"Feature ranking:\")\n",
    "\n",
    "for f in range(X.shape[1]):\n",
    "    print(\"%d. feature %d (%f)\" % (f + 1, indices[f], importances[indices[f]]))\n",
    "\n",
    "# Plot the feature importances of the forest\n",
    "plt.figure()\n",
    "plt.title(\"Feature importances\")\n",
    "plt.bar(range(X.shape[1]), importances[indices],\n",
    "       color=\"r\", yerr=std[indices], align=\"center\")\n",
    "plt.xticks(range(X.shape[1]), indices)\n",
    "plt.xlim([-1, X.shape[1]])\n",
    "plt.show()"
   ]
  },
  {
   "cell_type": "code",
   "execution_count": null,
   "metadata": {},
   "outputs": [],
   "source": [
    "y_test[0:10]"
   ]
  },
  {
   "cell_type": "code",
   "execution_count": null,
   "metadata": {},
   "outputs": [],
   "source": [
    "from sklearn.model_selection import cross_val_score\n"
   ]
  },
  {
   "cell_type": "code",
   "execution_count": null,
   "metadata": {},
   "outputs": [],
   "source": [
    "\n",
    "forest = RandomForestRegressor(max_depth=2, random_state=0,n_estimators=100)\n",
    "forest.fit(X_train, y_train)\n",
    "\n",
    "predictions = forest.predict(X_test)\n",
    "\n",
    "scores = cross_val_score(forest, X_train, y_train, cv=10, scoring='precision')\n",
    "print (scores)\n",
    "print (\"Average score is \" + str(scores.mean()))"
   ]
  },
  {
   "cell_type": "code",
   "execution_count": null,
   "metadata": {},
   "outputs": [],
   "source": []
  }
 ],
 "metadata": {
  "kernelspec": {
   "display_name": "Python 3",
   "language": "python",
   "name": "python3"
  },
  "language_info": {
   "codemirror_mode": {
    "name": "ipython",
    "version": 3
   },
   "file_extension": ".py",
   "mimetype": "text/x-python",
   "name": "python",
   "nbconvert_exporter": "python",
   "pygments_lexer": "ipython3",
   "version": "3.7.0"
  }
 },
 "nbformat": 4,
 "nbformat_minor": 2
}
