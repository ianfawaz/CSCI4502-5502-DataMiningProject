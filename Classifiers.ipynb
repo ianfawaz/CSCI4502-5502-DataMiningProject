{
 "cells": [
  {
   "cell_type": "code",
   "execution_count": 67,
   "metadata": {},
   "outputs": [],
   "source": [
    "import numpy as np\n",
    "from sklearn.linear_model import LinearRegression\n",
    "import pandas as pd\n",
    "import matplotlib.pyplot as plt\n",
    "from sklearn.metrics import mean_squared_error\n",
    "from sklearn.metrics import r2_score\n",
    "from sklearn.linear_model import LogisticRegression\n",
    "from sklearn.model_selection import cross_val_score"
   ]
  },
  {
   "cell_type": "code",
   "execution_count": 68,
   "metadata": {},
   "outputs": [],
   "source": [
    "cleanmeta = pd.read_csv(\"actormetaMonths.csv\")\n",
    "cleanmeta = cleanmeta[['budget','revenue','popularity','runtime','castRevBudRatio','january','february','march','april','may','june','july','august','september','october','november','december']]\n",
    "cleanmeta = cleanmeta.dropna()\n",
    "cleanmeta = cleanmeta.reset_index()\n",
    "X = cleanmeta.values\n",
    "y = cleanmeta['revenue']/cleanmeta['budget'].values"
   ]
  },
  {
   "cell_type": "code",
   "execution_count": 69,
   "metadata": {},
   "outputs": [],
   "source": [
    "#np.median(y)"
   ]
  },
  {
   "cell_type": "code",
   "execution_count": 70,
   "metadata": {},
   "outputs": [],
   "source": [
    "#2 is near median of y\n",
    "for i in range(0,len(y)):\n",
    "    if y[i] > 2:\n",
    "        y[i] = 0 #success\n",
    "    else:\n",
    "        y[i] = 2 #failure\n"
   ]
  },
  {
   "cell_type": "code",
   "execution_count": 71,
   "metadata": {
    "scrolled": true
   },
   "outputs": [],
   "source": [
    "X_train = X[:4500]\n",
    "X_test = X[4500:]\n",
    "\n",
    "y_train = y[:4500]\n",
    "y_test = y[4500:]\n",
    "#reg = LinearRegression()\n",
    "# Train the model using the training sets\n",
    "#reg.fit(X_train, y_train)\n",
    "# Make predictions using the testing set\n",
    "#y_pred = reg.predict(X_test)\n",
    "#reg.coef_\n",
    "# reg.intercept_ \n",
    "#reg.predict(np.array([[3, 5]]))b\n",
    "\n"
   ]
  },
  {
   "cell_type": "code",
   "execution_count": 72,
   "metadata": {
    "scrolled": true
   },
   "outputs": [
    {
     "data": {
      "text/plain": [
       "LogisticRegression(C=1.0, class_weight=None, dual=False, fit_intercept=True,\n",
       "          intercept_scaling=1, max_iter=100, multi_class='multinomial',\n",
       "          n_jobs=1, penalty='l2', random_state=0, solver='lbfgs',\n",
       "          tol=0.0001, verbose=0, warm_start=False)"
      ]
     },
     "execution_count": 72,
     "metadata": {},
     "output_type": "execute_result"
    }
   ],
   "source": [
    "\n",
    "clf = LogisticRegression(random_state=0, solver='lbfgs',multi_class='multinomial')\n",
    "clf.fit(X_train,y_train)"
   ]
  },
  {
   "cell_type": "code",
   "execution_count": 73,
   "metadata": {},
   "outputs": [],
   "source": [
    "#https://scikit-learn.org/stable/modules/generated/sklearn.linear_model.LogisticRegression.html"
   ]
  },
  {
   "cell_type": "code",
   "execution_count": 74,
   "metadata": {},
   "outputs": [
    {
     "data": {
      "text/plain": [
       "0.9977298524404086"
      ]
     },
     "execution_count": 74,
     "metadata": {},
     "output_type": "execute_result"
    }
   ],
   "source": []
  },
  {
   "cell_type": "code",
   "execution_count": 81,
   "metadata": {},
   "outputs": [
    {
     "data": {
      "text/plain": [
       "0.9977298524404086"
      ]
     },
     "execution_count": 81,
     "metadata": {},
     "output_type": "execute_result"
    }
   ],
   "source": []
  },
  {
   "cell_type": "code",
   "execution_count": 83,
   "metadata": {},
   "outputs": [
    {
     "name": "stdout",
     "output_type": "stream",
     "text": [
      "Average score is 0.9965778474399164\n"
     ]
    }
   ],
   "source": [
    "#cross validation\n",
    "scores = cross_val_score(clf, X_test, y_test, cv=10)\n",
    "#print (scores)\n",
    "print (\"Average score is \" + str(scores.mean()))"
   ]
  },
  {
   "cell_type": "code",
   "execution_count": 82,
   "metadata": {},
   "outputs": [
    {
     "name": "stdout",
     "output_type": "stream",
     "text": [
      "accuracy on the given test data and labels: 0.9977\n",
      "Mean squared error: 0.01\n",
      "Variance score: 0.99\n"
     ]
    }
   ],
   "source": [
    "y_pred = clf.predict(X_test)\n",
    "print(\"accuracy on the given test data and labels: %.4f\" % clf.score(X_test,y_test))\n",
    "print(\"Mean squared error: %.2f\" % mean_squared_error(y_test, y_pred))\n",
    "# Explained variance score: 1 is perfect prediction\n",
    "print('Variance score: %.2f' % r2_score(y_test, y_pred))"
   ]
  },
  {
   "cell_type": "code",
   "execution_count": 17,
   "metadata": {},
   "outputs": [],
   "source": [
    "#number = []\n",
    "b = []\n",
    "r =[]\n",
    "p=[]\n",
    "run = []\n",
    "castrb = []\n",
    "for i in range(0,len(X_test)):\n",
    "    #number.append(i)\n",
    "    b.append(X_test[i][0]) #budget\n",
    "    r.append(X_test[i][1]) #revenue\n",
    "    p.append(X_test[i][2]) #popularity\n",
    "    run.append(X_test[i][3]) #runtime\n",
    "    castrb.append(X_test[i][4]) #castRevBudRatio\n"
   ]
  },
  {
   "cell_type": "code",
   "execution_count": 84,
   "metadata": {},
   "outputs": [],
   "source": [
    "# b_sorted, y_pred_sorted = zip(*sorted(zip(b, y_pred)))\n",
    "# plt.plot(b_sorted,y_pred_sorted)\n",
    "# plt.title(\"r/b ratio with budget\")\n",
    "# plt.ylabel(\"r/b ratio\")\n",
    "# plt.xlabel(\"budget\")"
   ]
  },
  {
   "cell_type": "code",
   "execution_count": 85,
   "metadata": {},
   "outputs": [],
   "source": [
    "# r_sorted, y_pred_sorted = zip(*sorted(zip(r, y_pred)))\n",
    "# plt.plot(r_sorted,y_pred_sorted)\n",
    "# plt.title(\"r/b ratio with revenue\")\n",
    "# plt.ylabel(\"r/b ratio\")\n",
    "# plt.xlabel(\"revenue\")"
   ]
  },
  {
   "cell_type": "code",
   "execution_count": 86,
   "metadata": {},
   "outputs": [],
   "source": [
    "# p_sorted, y_pred_sorted = zip(*sorted(zip(p, y_pred)))\n",
    "# plt.plot(p_sorted,y_pred_sorted)\n",
    "# plt.title(\"r/b ratio with revenue\")\n",
    "# plt.ylabel(\"r/b ratio\")\n",
    "# plt.xlabel(\"popularity\")"
   ]
  },
  {
   "cell_type": "code",
   "execution_count": 87,
   "metadata": {},
   "outputs": [],
   "source": [
    "# run_sorted, y_pred_sorted = zip(*sorted(zip(run, y_pred)))\n",
    "# plt.plot(run_sorted,y_pred_sorted)\n",
    "# plt.title(\"r/b ratio with revenue\")\n",
    "# plt.ylabel(\"r/b ratio\")\n",
    "# plt.xlabel(\"runtime\")"
   ]
  },
  {
   "cell_type": "code",
   "execution_count": 88,
   "metadata": {},
   "outputs": [],
   "source": [
    "# castrb_sorted, y_pred_sorted = zip(*sorted(zip(castrb, y_pred)))\n",
    "# plt.plot(castrb_sorted,y_pred_sorted)\n",
    "# plt.title(\"r/b ratio with revenue\")\n",
    "# plt.ylabel(\"r/b ratio\")\n",
    "# plt.xlabel(\"castrb\")"
   ]
  },
  {
   "cell_type": "code",
   "execution_count": 55,
   "metadata": {
    "scrolled": false
   },
   "outputs": [
    {
     "name": "stdout",
     "output_type": "stream",
     "text": [
      "Feature ranking:\n",
      "1. feature 1 (0.585817)\n",
      "2. feature 5 (0.405000)\n",
      "3. feature 2 (0.292899)\n",
      "4. feature 8 (0.098481)\n",
      "5. feature 13 (0.066369)\n",
      "6. feature 14 (0.030391)\n",
      "7. feature 4 (0.023926)\n",
      "8. feature 17 (0.010697)\n",
      "9. feature 3 (0.005070)\n",
      "10. feature 6 (0.004362)\n",
      "11. feature 7 (0.003228)\n",
      "12. feature 15 (0.001577)\n",
      "13. feature 9 (0.001378)\n",
      "14. feature 0 (0.000476)\n",
      "15. feature 12 (0.000146)\n",
      "16. feature 10 (0.000039)\n",
      "17. feature 16 (0.000001)\n",
      "18. feature 11 (0.000000)\n"
     ]
    },
    {
     "data": {
      "image/png": "[encoded data removed]",
      "text/plain": [
       "<Figure size 432x288 with 1 Axes>"
      ]
     },
     "metadata": {
      "needs_background": "light"
     },
     "output_type": "display_data"
    }
   ],
   "source": [
    "weights = clf.coef_[0]\n",
    "importances = np.abs(weights)\n",
    "\n",
    "indices = np.argsort(importances)[::-1]\n",
    "print(\"Feature ranking:\")\n",
    "\n",
    "for f in range(X.shape[1]):\n",
    "    print(\"%d. feature %d (%f)\" % (f + 1, indices[f], importances[indices[f]]))\n",
    "\n",
    "# Plot the feature importances of the forest\n",
    "plt.figure()\n",
    "plt.title(\"Feature importances\")\n",
    "plt.bar(range(X.shape[1]), importances[indices],\n",
    "       color=\"r\", align=\"center\")\n",
    "plt.xticks(range(X.shape[1]), indices)\n",
    "plt.xlim([-1, X.shape[1]])\n",
    "plt.show()"
   ]
  },
  {
   "cell_type": "markdown",
   "metadata": {},
   "source": [
    "'budget','revenue','popularity','runtime','castRevBudRatio','january','february','march','april','may','june','july','august','september','october','november','december'"
   ]
  },
  {
   "cell_type": "code",
   "execution_count": 90,
   "metadata": {},
   "outputs": [
    {
     "name": "stdout",
     "output_type": "stream",
     "text": [
      "[-4.76118759e-04  5.85817063e-01 -2.92899305e-01  5.06989970e-03\n",
      "  2.39255086e-02 -4.05000273e-01  4.36186919e-03 -3.22808502e-03\n",
      " -9.84808272e-02  1.37782121e-03 -3.87981121e-05 -3.89691931e-09\n",
      "  1.46013160e-04  6.63694356e-02  3.03907722e-02  1.57718160e-03\n",
      "  5.99701204e-07 -1.06970287e-02]\n",
      "[-0.4050002727975716, -0.2928993049091524, -0.09848082716733109, -0.010697028723136139, -0.0032280850246195537, -0.0004761187587964423, -3.8798112125312944e-05, -3.896919309001386e-09, 5.997012043986027e-07, 0.0001460131600899841, 0.0013778212127576522, 0.001577181597709688, 0.004361869194873644, 0.005069899698070823, 0.023925508597027786, 0.030390772236270274, 0.06636943557072605, 0.5858170626536032]\n",
      "[ 1 13 14  4  3  6 15  9 12 16 11 10  0  7 17  8  2  5]\n"
     ]
    }
   ],
   "source": [
    "print(weights)\n",
    "print(sorted(weights))\n",
    "print(np.argsort(weights)[::-1])\n"
   ]
  },
  {
   "cell_type": "markdown",
   "metadata": {},
   "source": [
    "positive correlation: 1  Positive correlation below 0.0 coef: 13 14  4  3  6 15  9 12 16"
   ]
  },
  {
   "cell_type": "markdown",
   "metadata": {},
   "source": [
    "Neg correlation: 5,2  Neg correlation below 0.0 coef: 11 10  0  7 17  8"
   ]
  },
  {
   "cell_type": "code",
   "execution_count": null,
   "metadata": {},
   "outputs": [],
   "source": []
  }
 ],
 "metadata": {
  "kernelspec": {
   "display_name": "Python 3",
   "language": "python",
   "name": "python3"
  },
  "language_info": {
   "codemirror_mode": {
    "name": "ipython",
    "version": 3
   },
   "file_extension": ".py",
   "mimetype": "text/x-python",
   "name": "python",
   "nbconvert_exporter": "python",
   "pygments_lexer": "ipython3",
   "version": "3.7.0"
  }
 },
 "nbformat": 4,
 "nbformat_minor": 2
}
