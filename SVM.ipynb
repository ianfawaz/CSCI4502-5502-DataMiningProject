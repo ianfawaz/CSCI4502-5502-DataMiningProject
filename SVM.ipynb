{
 "cells": [
  {
   "cell_type": "code",
   "execution_count": 124,
   "metadata": {},
   "outputs": [],
   "source": [
    "import numpy as np\n",
    "from sklearn.linear_model import LinearRegression\n",
    "import pandas as pd\n",
    "import matplotlib.pyplot as plt\n",
    "from sklearn.metrics import mean_squared_error\n",
    "from sklearn.metrics import r2_score\n",
    "from sklearn.svm import SVR\n",
    "from sklearn.svm import SVC\n",
    "from sklearn.model_selection import cross_val_score"
   ]
  },
  {
   "cell_type": "code",
   "execution_count": 68,
   "metadata": {},
   "outputs": [],
   "source": [
    "cleanmeta = pd.read_csv(\"actormetaMonths.csv\")\n",
    "cleanmeta = cleanmeta[['budget','revenue','popularity','runtime','castRevBudRatio','january','february','march','april','may','june','july','august','september','october','november','december']]\n",
    "cleanmeta = cleanmeta.dropna()\n",
    "cleanmeta = cleanmeta.reset_index()\n",
    "X = cleanmeta.values\n",
    "y = cleanmeta['revenue']/cleanmeta['budget'].values"
   ]
  },
  {
   "cell_type": "code",
   "execution_count": 69,
   "metadata": {},
   "outputs": [],
   "source": [
    "for i in range(0,len(y)):\n",
    "    if y[i] > 1:\n",
    "        y[i] = 0 #success\n",
    "    else:\n",
    "        y[i] = 1 #failure"
   ]
  },
  {
   "cell_type": "code",
   "execution_count": 70,
   "metadata": {},
   "outputs": [],
   "source": [
    "X_train = X[:4500]\n",
    "X_test = X[4500:]\n",
    "\n",
    "y_train = y[:4500]\n",
    "y_test = y[4500:]"
   ]
  },
  {
   "cell_type": "code",
   "execution_count": 101,
   "metadata": {
    "scrolled": true
   },
   "outputs": [],
   "source": [
    "#X_train[0:5]"
   ]
  },
  {
   "cell_type": "code",
   "execution_count": 72,
   "metadata": {},
   "outputs": [
    {
     "data": {
      "text/plain": [
       "0    0.0\n",
       "1    0.0\n",
       "2    0.0\n",
       "3    0.0\n",
       "4    0.0\n",
       "Name: revenue, dtype: float64"
      ]
     },
     "execution_count": 72,
     "metadata": {},
     "output_type": "execute_result"
    }
   ],
   "source": [
    "y_train[0:5]"
   ]
  },
  {
   "cell_type": "code",
   "execution_count": 98,
   "metadata": {},
   "outputs": [],
   "source": [
    "#print(y_train)"
   ]
  },
  {
   "cell_type": "code",
   "execution_count": 74,
   "metadata": {},
   "outputs": [],
   "source": [
    "X_train = np.array(X_train)\n",
    "y_train = np.array(y_train)"
   ]
  },
  {
   "cell_type": "code",
   "execution_count": 86,
   "metadata": {},
   "outputs": [
    {
     "data": {
      "text/plain": [
       "-0.0022234691309266363"
      ]
     },
     "execution_count": 86,
     "metadata": {},
     "output_type": "execute_result"
    }
   ],
   "source": [
    "\n",
    "#clf = SVC(kernel = 'linear', C = 1.0)\n",
    "#clf.fit(X_train, y_train) \n",
    "#y_train = y_train.reshape(1, -1)\n",
    "clf=SVR()\n",
    "clf.fit(X_train,y_train)\n",
    "clf.score(X_test, y_test)"
   ]
  },
  {
   "cell_type": "code",
   "execution_count": 100,
   "metadata": {
    "scrolled": true
   },
   "outputs": [],
   "source": [
    "#X_train[0:4]"
   ]
  },
  {
   "cell_type": "code",
   "execution_count": 99,
   "metadata": {},
   "outputs": [],
   "source": [
    "#print(X_test[0])\n",
    "#print(y_test[0:10])"
   ]
  },
  {
   "cell_type": "code",
   "execution_count": 78,
   "metadata": {},
   "outputs": [],
   "source": [
    "result = clf.predict(X_test)"
   ]
  },
  {
   "cell_type": "code",
   "execution_count": 79,
   "metadata": {},
   "outputs": [
    {
     "data": {
      "text/plain": [
       "array([0.3386207, 0.3386207, 0.3386207, 0.3386207, 0.3386207, 0.3386207,\n",
       "       0.3386207, 0.3386207, 0.3386207, 0.3386207])"
      ]
     },
     "execution_count": 79,
     "metadata": {},
     "output_type": "execute_result"
    }
   ],
   "source": [
    "result[0:10]"
   ]
  },
  {
   "cell_type": "code",
   "execution_count": 80,
   "metadata": {},
   "outputs": [
    {
     "name": "stdout",
     "output_type": "stream",
     "text": [
      "[-0.23828125 -0.2390625  -0.2390625  ... -0.2390625  -0.2390625\n",
      " -0.2390625 ]\n"
     ]
    }
   ],
   "source": [
    "print( clf.dual_coef_[0])"
   ]
  },
  {
   "cell_type": "code",
   "execution_count": 117,
   "metadata": {},
   "outputs": [
    {
     "name": "stdout",
     "output_type": "stream",
     "text": [
      "svc score: 0.6833\n",
      "Average score is 0.7015561514432719\n"
     ]
    }
   ],
   "source": [
    "#rbf kernel\n",
    "svc=SVC()\n",
    "svc.fit(X_train,y_train)\n",
    "print(\"svc score: %.4f\" % svc.score(X_test, y_test))\n",
    "scores = cross_val_score(svc, X_train, y_train, cv=10, scoring='accuracy')\n",
    "#print (scores)\n",
    "print (\"Average score is \" + str(scores.mean()))"
   ]
  },
  {
   "cell_type": "code",
   "execution_count": null,
   "metadata": {},
   "outputs": [],
   "source": []
  },
  {
   "cell_type": "code",
   "execution_count": 116,
   "metadata": {},
   "outputs": [
    {
     "name": "stdout",
     "output_type": "stream",
     "text": [
      "svc score: 0.9989\n",
      "Average score is 0.999111601648513\n"
     ]
    }
   ],
   "source": [
    "#linear kernel\n",
    "linsvc=SVC(kernel='linear')\n",
    "linsvc.fit(X_train,y_train)\n",
    "print(\"svc score: %.4f\" % linsvc.score(X_test, y_test))\n",
    "scores = cross_val_score(linsvc, X_train, y_train, cv=10, scoring='accuracy')\n",
    "#print (scores)\n",
    "print (\"Average score is \" + str(scores.mean()))"
   ]
  },
  {
   "cell_type": "code",
   "execution_count": null,
   "metadata": {},
   "outputs": [],
   "source": []
  },
  {
   "cell_type": "code",
   "execution_count": 108,
   "metadata": {},
   "outputs": [],
   "source": [
    "#do cross val for scoring=precision, recall, f1score"
   ]
  },
  {
   "cell_type": "code",
   "execution_count": 120,
   "metadata": {},
   "outputs": [
    {
     "name": "stdout",
     "output_type": "stream",
     "text": [
      "svc score: 0.3167\n",
      "Average score is 0.2984438485567281\n"
     ]
    }
   ],
   "source": [
    "#poly kernel\n",
    "polysvc=SVC(kernel='poly')\n",
    "polysvc.fit(X_train,y_train)\n",
    "print(\"svc score: %.4f\" % polysvc.score(X_test, y_test))\n",
    "scores = cross_val_score(polysvc, X_train, y_train, cv=10, scoring='accuracy')\n",
    "#print (scores)\n",
    "print (\"Average score is \" + str(scores.mean()))"
   ]
  },
  {
   "cell_type": "code",
   "execution_count": null,
   "metadata": {},
   "outputs": [],
   "source": []
  },
  {
   "cell_type": "code",
   "execution_count": 122,
   "metadata": {},
   "outputs": [
    {
     "name": "stdout",
     "output_type": "stream",
     "text": [
      "svc score: 0.6833\n",
      "Average score is 0.7015561514432719\n"
     ]
    }
   ],
   "source": [
    "#sigmoid kernel\n",
    "sigsvc=SVC(kernel='sigmoid')\n",
    "sigsvc.fit(X_train,y_train)\n",
    "print(\"svc score: %.4f\" % sigsvc.score(X_test, y_test))\n",
    "scores = cross_val_score(sigsvc, X_train, y_train, cv=10, scoring='accuracy')\n",
    "#print (scores)\n",
    "print (\"Average score is \" + str(scores.mean()))"
   ]
  },
  {
   "cell_type": "code",
   "execution_count": null,
   "metadata": {},
   "outputs": [],
   "source": []
  },
  {
   "cell_type": "code",
   "execution_count": 144,
   "metadata": {},
   "outputs": [
    {
     "data": {
      "image/png": "[encoded data removed]",
      "text/plain": [
       "<Figure size 432x288 with 1 Axes>"
      ]
     },
     "metadata": {
      "needs_background": "light"
     },
     "output_type": "display_data"
    }
   ],
   "source": [
    "objects = (svc.score(X_test, y_test), linsvc.score(X_test, y_test), polysvc.score(X_test, y_test), sigsvc.score(X_test, y_test))\n",
    "y_pos = np.arange(len(objects))\n",
    " \n",
    "plt.bar(y_pos, objects, align='center', alpha=0.5)\n",
    "plt.xlabel('Kernel type')\n",
    "plt.xticks([0, 1, 2, 3], [\"RBF\", \"Linear\", \"Poly\", \"Sigmoid\"])\n",
    "plt.ylabel('Accuracy')\n",
    "plt.title('SVC using scoring=accuracy')\n",
    " \n",
    "plt.show()"
   ]
  },
  {
   "cell_type": "code",
   "execution_count": null,
   "metadata": {},
   "outputs": [],
   "source": []
  }
 ],
 "metadata": {
  "kernelspec": {
   "display_name": "Python 3",
   "language": "python",
   "name": "python3"
  },
  "language_info": {
   "codemirror_mode": {
    "name": "ipython",
    "version": 3
   },
   "file_extension": ".py",
   "mimetype": "text/x-python",
   "name": "python",
   "nbconvert_exporter": "python",
   "pygments_lexer": "ipython3",
   "version": "3.7.0"
  }
 },
 "nbformat": 4,
 "nbformat_minor": 2
}
