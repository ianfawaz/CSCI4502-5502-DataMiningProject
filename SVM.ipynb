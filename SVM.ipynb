{
 "cells": [
  {
   "cell_type": "code",
   "execution_count": 77,
   "metadata": {},
   "outputs": [],
   "source": [
    "import numpy as np\n",
    "from sklearn.linear_model import LinearRegression\n",
    "import pandas as pd\n",
    "import matplotlib.pyplot as plt\n",
    "from sklearn.metrics import mean_squared_error\n",
    "from sklearn.metrics import r2_score\n",
    "from sklearn.svm import SVR\n",
    "from sklearn.svm import SVC\n",
    "from sklearn.naive_bayes import GaussianNB\n",
    "from sklearn.model_selection import cross_val_score\n",
    "from sklearn.metrics import recall_score\n",
    "from sklearn.metrics import precision_score\n",
    "from sklearn.metrics import f1_score"
   ]
  },
  {
   "cell_type": "code",
   "execution_count": 78,
   "metadata": {},
   "outputs": [],
   "source": [
    "cleanmeta = pd.read_csv(\"actormetaMonths.csv\")\n",
    "cleanmeta = cleanmeta[['budget','revenue','popularity','runtime','castRevBudRatio','january','february','march','april','may','june','july','august','september','october','november','december']]\n",
    "cleanmeta = cleanmeta.dropna()\n",
    "cleanmeta = cleanmeta.reset_index()\n",
    "X = cleanmeta.values\n",
    "y = cleanmeta['revenue']/cleanmeta['budget'].values"
   ]
  },
  {
   "cell_type": "code",
   "execution_count": 79,
   "metadata": {},
   "outputs": [],
   "source": [
    "for i in range(0,len(y)):\n",
    "    if y[i] > 2:\n",
    "        y[i] = 0 #success\n",
    "    else:\n",
    "        y[i] = 1 #failure"
   ]
  },
  {
   "cell_type": "code",
   "execution_count": 80,
   "metadata": {},
   "outputs": [],
   "source": [
    "X_train = X[:4500]\n",
    "X_test = X[4500:]\n",
    "\n",
    "y_train = y[:4500]\n",
    "y_test = y[4500:]"
   ]
  },
  {
   "cell_type": "code",
   "execution_count": 81,
   "metadata": {
    "scrolled": true
   },
   "outputs": [],
   "source": [
    "#X_train[0:5]"
   ]
  },
  {
   "cell_type": "code",
   "execution_count": 82,
   "metadata": {},
   "outputs": [
    {
     "data": {
      "text/plain": [
       "0    0.0\n",
       "1    0.0\n",
       "2    0.0\n",
       "3    0.0\n",
       "4    1.0\n",
       "Name: revenue, dtype: float64"
      ]
     },
     "execution_count": 82,
     "metadata": {},
     "output_type": "execute_result"
    }
   ],
   "source": [
    "y_train[0:5]"
   ]
  },
  {
   "cell_type": "code",
   "execution_count": 83,
   "metadata": {},
   "outputs": [],
   "source": [
    "#print(y_train)"
   ]
  },
  {
   "cell_type": "code",
   "execution_count": 84,
   "metadata": {},
   "outputs": [],
   "source": [
    "X_train = np.array(X_train)\n",
    "y_train = np.array(y_train)"
   ]
  },
  {
   "cell_type": "code",
   "execution_count": 85,
   "metadata": {},
   "outputs": [
    {
     "data": {
      "text/plain": [
       "-0.0007092720593186996"
      ]
     },
     "execution_count": 85,
     "metadata": {},
     "output_type": "execute_result"
    }
   ],
   "source": [
    "\n",
    "#clf = SVC(kernel = 'linear', C = 1.0)\n",
    "#clf.fit(X_train, y_train) \n",
    "#y_train = y_train.reshape(1, -1)\n",
    "clf=SVR()\n",
    "clf.fit(X_train,y_train)\n",
    "clf.score(X_test, y_test)"
   ]
  },
  {
   "cell_type": "code",
   "execution_count": 86,
   "metadata": {
    "scrolled": true
   },
   "outputs": [],
   "source": [
    "#X_train[0:4]"
   ]
  },
  {
   "cell_type": "code",
   "execution_count": 87,
   "metadata": {},
   "outputs": [],
   "source": [
    "#print(X_test[0])\n",
    "#print(y_test[0:10])"
   ]
  },
  {
   "cell_type": "code",
   "execution_count": 88,
   "metadata": {},
   "outputs": [],
   "source": [
    "result = clf.predict(X_test)"
   ]
  },
  {
   "cell_type": "code",
   "execution_count": 89,
   "metadata": {},
   "outputs": [
    {
     "data": {
      "text/plain": [
       "array([0.48952182, 0.48952182, 0.48952182, 0.48952182, 0.48952182,\n",
       "       0.48952182, 0.48952182, 0.48952182, 0.48952182, 0.48952182])"
      ]
     },
     "execution_count": 89,
     "metadata": {},
     "output_type": "execute_result"
    }
   ],
   "source": [
    "result[0:10]"
   ]
  },
  {
   "cell_type": "code",
   "execution_count": 90,
   "metadata": {},
   "outputs": [
    {
     "name": "stdout",
     "output_type": "stream",
     "text": [
      "[-0.3890625  -0.3890625  -0.3890625  ... -0.38984375 -0.38984375\n",
      " -0.38984375]\n"
     ]
    }
   ],
   "source": [
    "print( clf.dual_coef_[0])"
   ]
  },
  {
   "cell_type": "code",
   "execution_count": 91,
   "metadata": {},
   "outputs": [
    {
     "name": "stdout",
     "output_type": "stream",
     "text": [
      "scoring=accuracy\n",
      "rbf svc score: 0.4972\n",
      "Average rbf score is 0.7015561514432719 \n",
      "\n",
      "linear svc score: 0.9989\n",
      "Average linear score is 0.7015561514432719 \n",
      "\n",
      "poly svc score: 0.5028\n",
      "Average poly score is 0.7015561514432719 \n",
      "\n",
      "sigmoid svc score: 0.4972\n",
      "Average sigmoid score is 0.7015561514432719 \n",
      "\n"
     ]
    }
   ],
   "source": [
    "#accuracy rbf kernel\n",
    "print(\"scoring=accuracy\")\n",
    "asvc=SVC()\n",
    "asvc.fit(X_train,y_train)\n",
    "print(\"rbf svc score: %.4f\" % asvc.score(X_test, y_test))\n",
    "rbfscores = cross_val_score(asvc, X_train, y_train, cv=10, scoring='accuracy')\n",
    "#print (scores)\n",
    "print (\"Average rbf score is \" + str(scores.mean()), \"\\n\")\n",
    "\n",
    "#linear kernel\n",
    "alinsvc=SVC(kernel='linear')\n",
    "alinsvc.fit(X_train,y_train)\n",
    "print(\"linear svc score: %.4f\" % alinsvc.score(X_test, y_test))\n",
    "linearscores = cross_val_score(alinsvc, X_train, y_train, cv=10, scoring='accuracy')\n",
    "#print (scores)\n",
    "print (\"Average linear score is \" + str(scores.mean()), \"\\n\")\n",
    "\n",
    "#poly kernel\n",
    "apolysvc=SVC(kernel='poly')\n",
    "apolysvc.fit(X_train,y_train)\n",
    "print(\"poly svc score: %.4f\" % apolysvc.score(X_test, y_test))\n",
    "polyscores = cross_val_score(apolysvc, X_train, y_train, cv=10, scoring='accuracy')\n",
    "#print (scores)\n",
    "print (\"Average poly score is \" + str(scores.mean()), \"\\n\")\n",
    "\n",
    "#sigmoid kernel\n",
    "asigsvc=SVC(kernel='sigmoid')\n",
    "asigsvc.fit(X_train,y_train)\n",
    "print(\"sigmoid svc score: %.4f\" % asigsvc.score(X_test, y_test))\n",
    "sigmoidscores = cross_val_score(asigsvc, X_train, y_train, cv=10, scoring='accuracy')\n",
    "#print (scores)\n",
    "print (\"Average sigmoid score is \" + str(scores.mean()), \"\\n\")\n"
   ]
  },
  {
   "cell_type": "code",
   "execution_count": 18,
   "metadata": {},
   "outputs": [],
   "source": [
    "#do cross val for scoring=precision, recall, f1score"
   ]
  },
  {
   "cell_type": "code",
   "execution_count": 56,
   "metadata": {},
   "outputs": [
    {
     "name": "stderr",
     "output_type": "stream",
     "text": [
      "/anaconda3/lib/python3.7/site-packages/sklearn/metrics/classification.py:1135: UndefinedMetricWarning: Precision is ill-defined and being set to 0.0 due to no predicted samples.\n",
      "  'precision', 'predicted', average, warn_for)\n",
      "/anaconda3/lib/python3.7/site-packages/sklearn/metrics/classification.py:1135: UndefinedMetricWarning: F-score is ill-defined and being set to 0.0 due to no predicted samples.\n",
      "  'precision', 'predicted', average, warn_for)\n"
     ]
    },
    {
     "name": "stdout",
     "output_type": "stream",
     "text": [
      "precision rbf:  0.0\n",
      "recall rbf:  0.0\n",
      "f1 rbf:  0.0\n",
      "precision linear:  1.0\n",
      "recall rbf:  0.3155505107832009\n",
      "f1 rbf:  0.4797238999137187\n",
      "precision poly:  1.0\n",
      "recall rbf:  1.0\n",
      "f1 rbf:  1.0\n",
      "precision sigmoid:  0.0\n",
      "recall rbf:  0.0\n",
      "f1 rbf:  0.0\n"
     ]
    }
   ],
   "source": [
    "#recall rbf kernel\n",
    "\n",
    "svc=SVC()\n",
    "svc.fit(X_train,y_train)\n",
    "rbfsvcpred = svc.predict(X_test)\n",
    "precision_rbf_svc = precision_score(y_test, rbfsvcpred)\n",
    "recall_rbf_svc = recall_score(y_test, rbfsvcpred)\n",
    "f1_rbf_svc = f1_score(y_test, rbfsvcpred)\n",
    "print(\"precision rbf: \", precision_rbf_svc)\n",
    "print(\"recall rbf: \", recall_rbf_svc)\n",
    "print(\"f1 rbf: \", f1_rbf_svc)\n",
    "\n",
    "#linear kernel\n",
    "linsvc=SVC(kernel='linear')\n",
    "linsvc.fit(X_train,y_train)\n",
    "linsvcpred = linsvc.predict(X_test)\n",
    "precision_linear_svc = precision_score(y_test, linsvcpred)\n",
    "recall_linear_svc = recall_score(y_test, linsvcpred)\n",
    "f1_linear_svc = f1_score(y_test, linsvcpred)\n",
    "print(\"precision linear: \", precision_linear_svc)\n",
    "print(\"recall rbf: \", recall_linear_svc)\n",
    "print(\"f1 rbf: \", f1_linear_svc)\n",
    "\n",
    "#poly kernel\n",
    "polysvc=SVC(kernel='poly')\n",
    "polysvc.fit(X_train,y_train)\n",
    "polysvcpred = polysvc.predict(X_test)\n",
    "precision_poly_svc = precision_score(y_test, polysvcpred)\n",
    "recall_poly_svc = recall_score(y_test, polysvcpred)\n",
    "f1_poly_svc = f1_score(y_test, polysvcpred)\n",
    "print(\"precision poly: \", precision_poly_svc)\n",
    "print(\"recall rbf: \", recall_poly_svc)\n",
    "print(\"f1 rbf: \", f1_poly_svc)\n",
    "\n",
    "#sigmoid kernel\n",
    "sigsvc=SVC(kernel='sigmoid')\n",
    "sigsvc.fit(X_train,y_train)\n",
    "sigsvcpred = sigsvc.predict(X_test)\n",
    "precision_sig_svc = precision_score(y_test, sigsvcpred)\n",
    "recall_sig_svc = recall_score(y_test, sigsvcpred)\n",
    "f1_sig_svc = f1_score(y_test, sigsvcpred)\n",
    "print(\"precision sigmoid: \", precision_sig_svc)\n",
    "print(\"recall rbf: \", recall_sig_svc)\n",
    "print(\"f1 rbf: \", f1_sig_svc)\n"
   ]
  },
  {
   "cell_type": "code",
   "execution_count": null,
   "metadata": {},
   "outputs": [],
   "source": []
  },
  {
   "cell_type": "code",
   "execution_count": 69,
   "metadata": {},
   "outputs": [
    {
     "data": {
      "image/png": "[encoded data removed]",
      "text/plain": [
       "<Figure size 432x288 with 1 Axes>"
      ]
     },
     "metadata": {
      "needs_background": "light"
     },
     "output_type": "display_data"
    }
   ],
   "source": [
    "N = 4\n",
    "\n",
    "ind = np.arange(N)\n",
    "width = 0.15\n",
    "fig, ax = plt.subplots()\n",
    "\n",
    "accu = [rbfscores.mean(), linearscores.mean(), polyscores.mean(), sigmoidscores.mean()]\n",
    "rects1 = ax.bar(ind, accu, width, color='b')\n",
    "prec = [precision_rbf_svc, precision_linear_svc, precision_poly_svc, precision_sig_svc]\n",
    "rects2 = ax.bar(ind+width, prec, width, color='y')\n",
    "rec = [recall_rbf_svc, recall_linear_svc, recall_poly_svc, recall_sig_svc]\n",
    "rects3 = ax.bar(ind + 2 * width, rec, width, color='r')\n",
    "f1score = [f1_rbf_svc, f1_linear_svc, f1_poly_svc, f1_sig_svc]\n",
    "rects4 = ax.bar(ind+ 3 * width, f1score,  width, color='g')\n",
    "\n",
    "ax.set_ylabel('Score')\n",
    "ax.set_title('SVM Accuracy')\n",
    "ax.set_xticks(ind + 1.5*width)\n",
    "ax.set_xticklabels(('RBF', 'Linear', 'Poly', 'Sigmoid'))\n",
    "ax.set_xlabel('Kernel')\n",
    "ax.legend((rects1[0], rects2[0], rects3[0],rects4[0]), ('Accuracy', 'Precision', 'Recall','f1 Score'), loc=4)\n",
    "\n",
    "plt.show()"
   ]
  },
  {
   "cell_type": "code",
   "execution_count": null,
   "metadata": {},
   "outputs": [],
   "source": [
    "#svc w/ C, degree, tol, max_iter, decision_function_shape"
   ]
  },
  {
   "cell_type": "code",
   "execution_count": 72,
   "metadata": {},
   "outputs": [
    {
     "name": "stderr",
     "output_type": "stream",
     "text": [
      "/anaconda3/lib/python3.7/site-packages/sklearn/metrics/classification.py:1135: UndefinedMetricWarning: Precision is ill-defined and being set to 0.0 due to no predicted samples.\n",
      "  'precision', 'predicted', average, warn_for)\n",
      "/anaconda3/lib/python3.7/site-packages/sklearn/metrics/classification.py:1135: UndefinedMetricWarning: F-score is ill-defined and being set to 0.0 due to no predicted samples.\n",
      "  'precision', 'predicted', average, warn_for)\n"
     ]
    },
    {
     "name": "stdout",
     "output_type": "stream",
     "text": [
      "precision rbf:  0.0\n",
      "recall rbf:  0.0\n",
      "f1 rbf:  0.0\n",
      "precision rbf:  0.0\n",
      "recall rbf:  0.0\n",
      "f1 rbf:  0.0\n"
     ]
    },
    {
     "name": "stderr",
     "output_type": "stream",
     "text": [
      "/anaconda3/lib/python3.7/site-packages/sklearn/metrics/classification.py:1135: UndefinedMetricWarning: Precision is ill-defined and being set to 0.0 due to no predicted samples.\n",
      "  'precision', 'predicted', average, warn_for)\n",
      "/anaconda3/lib/python3.7/site-packages/sklearn/metrics/classification.py:1135: UndefinedMetricWarning: F-score is ill-defined and being set to 0.0 due to no predicted samples.\n",
      "  'precision', 'predicted', average, warn_for)\n"
     ]
    }
   ],
   "source": [
    "svc=SVC(C=0.05)\n",
    "svc.fit(X_train,y_train)\n",
    "rbfsvcpred1 = svc.predict(X_test)\n",
    "rbfscores1 = cross_val_score(svc, X_train, y_train, cv=10, scoring='accuracy')\n",
    "precision_rbf_svc1 = precision_score(y_test, rbfsvcpred1)\n",
    "recall_rbf_svc1 = recall_score(y_test, rbfsvcpred1)\n",
    "f1_rbf_svc1 = f1_score(y_test, rbfsvcpred1)\n",
    "print(\"precision rbf: \", precision_rbf_svc1)\n",
    "print(\"recall rbf: \", recall_rbf_svc1)\n",
    "print(\"f1 rbf: \", f1_rbf_svc1)\n",
    "\n",
    "svc=SVC(C=0.1)\n",
    "svc.fit(X_train,y_train)\n",
    "rbfsvcpred1 = svc.predict(X_test)\n",
    "rbfscores1 = cross_val_score(svc, X_train, y_train, cv=10, scoring='accuracy')\n",
    "precision_rbf_svc1 = precision_score(y_test, rbfsvcpred1)\n",
    "recall_rbf_svc1 = recall_score(y_test, rbfsvcpred1)\n",
    "f1_rbf_svc1 = f1_score(y_test, rbfsvcpred1)\n",
    "print(\"precision rbf: \", precision_rbf_svc1)\n",
    "print(\"recall rbf: \", recall_rbf_svc1)\n",
    "print(\"f1 rbf: \", f1_rbf_svc1)"
   ]
  },
  {
   "cell_type": "code",
   "execution_count": null,
   "metadata": {},
   "outputs": [],
   "source": []
  },
  {
   "cell_type": "code",
   "execution_count": null,
   "metadata": {},
   "outputs": [],
   "source": []
  },
  {
   "cell_type": "code",
   "execution_count": null,
   "metadata": {},
   "outputs": [],
   "source": []
  },
  {
   "cell_type": "code",
   "execution_count": null,
   "metadata": {},
   "outputs": [],
   "source": []
  },
  {
   "cell_type": "code",
   "execution_count": 76,
   "metadata": {},
   "outputs": [
    {
     "name": "stdout",
     "output_type": "stream",
     "text": [
      "Feature ranking:\n",
      "1. feature 1 (0.466822)\n",
      "2. feature 2 (0.466481)\n",
      "3. feature 5 (0.386871)\n",
      "4. feature 9 (0.234171)\n",
      "5. feature 3 (0.197721)\n",
      "6. feature 13 (0.172659)\n",
      "7. feature 8 (0.155161)\n",
      "8. feature 14 (0.093650)\n",
      "9. feature 4 (0.018664)\n",
      "10. feature 0 (0.000050)\n",
      "11. feature 16 (0.000000)\n",
      "12. feature 7 (0.000000)\n",
      "13. feature 6 (0.000000)\n",
      "14. feature 10 (0.000000)\n",
      "15. feature 11 (0.000000)\n",
      "16. feature 12 (0.000000)\n",
      "17. feature 15 (0.000000)\n",
      "18. feature 17 (0.000000)\n"
     ]
    },
    {
     "data": {
      "image/png": "[encoded data removed]",
      "text/plain": [
       "<Figure size 432x288 with 1 Axes>"
      ]
     },
     "metadata": {
      "needs_background": "light"
     },
     "output_type": "display_data"
    }
   ],
   "source": [
    "weights = linsvc.coef_[0]\n",
    "importances = np.abs(weights)\n",
    "\n",
    "indices = np.argsort(importances)[::-1]\n",
    "print(\"Feature ranking:\")\n",
    "\n",
    "for f in range(X.shape[1]):\n",
    "    print(\"%d. feature %d (%f)\" % (f + 1, indices[f], importances[indices[f]]))\n",
    "\n",
    "# Plot the feature importances of the forest\n",
    "plt.figure()\n",
    "plt.title(\"Feature importances\")\n",
    "plt.ylabel(\"Score\")\n",
    "plt.xlabel(\"Label\")\n",
    "plt.bar(range(X.shape[1]), importances[indices],\n",
    "       color=\"r\", align=\"center\")\n",
    "plt.xticks(range(X.shape[1]), indices)\n",
    "plt.xlim([-1, X.shape[1]])\n",
    "plt.show()"
   ]
  },
  {
   "cell_type": "code",
   "execution_count": null,
   "metadata": {},
   "outputs": [],
   "source": []
  }
 ],
 "metadata": {
  "kernelspec": {
   "display_name": "Python 3",
   "language": "python",
   "name": "python3"
  },
  "language_info": {
   "codemirror_mode": {
    "name": "ipython",
    "version": 3
   },
   "file_extension": ".py",
   "mimetype": "text/x-python",
   "name": "python",
   "nbconvert_exporter": "python",
   "pygments_lexer": "ipython3",
   "version": "3.7.0"
  }
 },
 "nbformat": 4,
 "nbformat_minor": 2
}
