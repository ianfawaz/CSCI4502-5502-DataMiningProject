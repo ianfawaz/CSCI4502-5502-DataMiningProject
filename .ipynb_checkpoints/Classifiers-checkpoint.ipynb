{
 "cells": [
  {
   "cell_type": "code",
   "execution_count": 4,
   "metadata": {},
   "outputs": [],
   "source": [
    "import numpy as np\n",
    "import pandas as pd\n",
    "import matplotlib.pyplot as plt\n",
    "from sklearn.metrics import mean_squared_error\n",
    "from sklearn.metrics import r2_score\n",
    "from sklearn.linear_model import LogisticRegression\n",
    "from sklearn.model_selection import cross_val_score\n",
    "from sklearn.metrics import average_precision_score\n",
    "from sklearn.metrics import precision_recall_curve\n",
    "from sklearn.utils.fixes import signature\n",
    "from sklearn.metrics import recall_score\n",
    "from sklearn.metrics import precision_score\n",
    "from sklearn.metrics import f1_score"
   ]
  },
  {
   "cell_type": "code",
   "execution_count": 5,
   "metadata": {},
   "outputs": [],
   "source": [
    "cleanmeta = pd.read_csv(\"actormetaMonths.csv\")\n",
    "cleanmeta = cleanmeta[['budget','revenue','popularity','runtime','castRevBudRatio','january','february','march','april','may','june','july','august','september','october','november','december']]\n",
    "cleanmeta = cleanmeta.dropna()\n",
    "cleanmeta = cleanmeta.reset_index()\n",
    "X = cleanmeta.values\n",
    "y = cleanmeta['revenue']/cleanmeta['budget'].values"
   ]
  },
  {
   "cell_type": "code",
   "execution_count": 6,
   "metadata": {},
   "outputs": [],
   "source": [
    "#np.median(y)"
   ]
  },
  {
   "cell_type": "code",
   "execution_count": 7,
   "metadata": {},
   "outputs": [],
   "source": [
    "#2 is near median of y\n",
    "for i in range(0,len(y)):\n",
    "    if y[i] > 2:\n",
    "        y[i] = 0 #success\n",
    "    else:\n",
    "        y[i] = 1 #failure\n"
   ]
  },
  {
   "cell_type": "code",
   "execution_count": 8,
   "metadata": {
    "scrolled": true
   },
   "outputs": [],
   "source": [
    "X_train = X[:4500]\n",
    "X_test = X[4500:]\n",
    "\n",
    "y_train = y[:4500]\n",
    "y_test = y[4500:]\n",
    "\n"
   ]
  },
  {
   "cell_type": "code",
   "execution_count": 9,
   "metadata": {
    "scrolled": false
   },
   "outputs": [],
   "source": [
    "\"\"\"\n",
    "Penalty param\n",
    "\"\"\"\n",
    "lr = LogisticRegression(random_state=0)\n",
    "lr.fit(X_train,y_train)\n",
    "y_pred = lr.predict(X_test)\n",
    "scores = cross_val_score(lr, X_test, y_test, cv=10).mean()\n",
    "r =recall_score(y_test, y_pred)  \n",
    "p =precision_score(y_test, y_pred)  \n",
    "f1 =f1_score(y_test, y_pred)  "
   ]
  },
  {
   "cell_type": "code",
   "execution_count": 10,
   "metadata": {},
   "outputs": [],
   "source": [
    "lrl1 = LogisticRegression(random_state=0,penalty ='l1')\n",
    "lrl1.fit(X_train,y_train)\n",
    "y_pred_l1 = lrl1.predict(X_test)\n",
    "scoresl1 = cross_val_score(lrl1, X_test, y_test, cv=10).mean()\n",
    "rl1 = recall_score(y_test, y_pred_l1)  \n",
    "pl1 = precision_score(y_test, y_pred_l1)  \n",
    "f1l1 = f1_score(y_test, y_pred_l1) "
   ]
  },
  {
   "cell_type": "code",
   "execution_count": 11,
   "metadata": {
    "scrolled": true
   },
   "outputs": [
    {
     "data": {
      "image/png": "[encoded data removed]",
      "text/plain": [
       "<Figure size 432x288 with 1 Axes>"
      ]
     },
     "metadata": {
      "needs_background": "light"
     },
     "output_type": "display_data"
    }
   ],
   "source": [
    "N = 2\n",
    "\n",
    "ind = np.arange(N)\n",
    "width = 0.15\n",
    "fig, ax = plt.subplots()\n",
    "\n",
    "accu = [scoresl1,scores]\n",
    "rects1 = ax.bar(ind, accu, width, color='b')\n",
    "prec = [pl1,p]\n",
    "rects2 = ax.bar(ind+width, prec, width, color='y')\n",
    "rec = [rl1,r]\n",
    "rects3 = ax.bar(ind + 2 * width, rec, width, color='r')\n",
    "f1score = [f1,f1l1]\n",
    "rects4 = ax.bar(ind+ 3 * width, f1score,  width, color='g')\n",
    "\n",
    "ax.set_ylabel('Scores')\n",
    "ax.set_title('Scores for each penalty')\n",
    "ax.set_xticks(ind + 1.5*width)\n",
    "ax.set_xticklabels(('L1', 'L2'))\n",
    "ax.legend((rects1[0], rects2[0], rects3[0],rects4[0]), ('Accuracy', 'Precision', 'Recall','f1 Score'))\n",
    "\n",
    "plt.show()"
   ]
  },
  {
   "cell_type": "code",
   "execution_count": 12,
   "metadata": {},
   "outputs": [
    {
     "data": {
      "text/plain": [
       "0.009117325913141405"
      ]
     },
     "execution_count": 12,
     "metadata": {},
     "output_type": "execute_result"
    }
   ],
   "source": [
    "scores - scoresl1"
   ]
  },
  {
   "cell_type": "markdown",
   "metadata": {},
   "source": [
    "L2 is slightly better  0.91% better"
   ]
  },
  {
   "cell_type": "code",
   "execution_count": 13,
   "metadata": {},
   "outputs": [
    {
     "data": {
      "text/plain": [
       "'\\nSolvers\\n'"
      ]
     },
     "execution_count": 13,
     "metadata": {},
     "output_type": "execute_result"
    }
   ],
   "source": [
    "\"\"\"\n",
    "Solvers\n",
    "\"\"\"\n",
    "# lr = LogisticRegression(random_state=0,solver='liblinear') #default\n",
    "# lr.fit(X_train,y_train)\n",
    "# y_pred = clf.predict(X_test)\n",
    "# scores = cross_val_score(lrl1, X_test, y_test, cv=10).mean()\n",
    "# r = recall_score(y_test, y_pred_l1)  \n",
    "# p = precision_score(y_test, y_pred_l1)  \n",
    "# f1 = f1_score(y_test, y_pred_l1) "
   ]
  },
  {
   "cell_type": "code",
   "execution_count": 14,
   "metadata": {},
   "outputs": [
    {
     "name": "stderr",
     "output_type": "stream",
     "text": [
      "C:\\Users\\woosung\\Anaconda3\\lib\\site-packages\\scipy\\optimize\\linesearch.py:462: LineSearchWarning: The line search algorithm did not converge\n",
      "  warn('The line search algorithm did not converge', LineSearchWarning)\n",
      "C:\\Users\\woosung\\Anaconda3\\lib\\site-packages\\scipy\\optimize\\linesearch.py:313: LineSearchWarning: The line search algorithm did not converge\n",
      "  warn('The line search algorithm did not converge', LineSearchWarning)\n",
      "C:\\Users\\woosung\\Anaconda3\\lib\\site-packages\\sklearn\\utils\\optimize.py:203: ConvergenceWarning: newton-cg failed to converge. Increase the number of iterations.\n",
      "  \"number of iterations.\", ConvergenceWarning)\n",
      "C:\\Users\\woosung\\Anaconda3\\lib\\site-packages\\sklearn\\utils\\optimize.py:203: ConvergenceWarning: newton-cg failed to converge. Increase the number of iterations.\n",
      "  \"number of iterations.\", ConvergenceWarning)\n",
      "C:\\Users\\woosung\\Anaconda3\\lib\\site-packages\\sklearn\\utils\\optimize.py:203: ConvergenceWarning: newton-cg failed to converge. Increase the number of iterations.\n",
      "  \"number of iterations.\", ConvergenceWarning)\n",
      "C:\\Users\\woosung\\Anaconda3\\lib\\site-packages\\sklearn\\utils\\optimize.py:203: ConvergenceWarning: newton-cg failed to converge. Increase the number of iterations.\n",
      "  \"number of iterations.\", ConvergenceWarning)\n",
      "C:\\Users\\woosung\\Anaconda3\\lib\\site-packages\\sklearn\\utils\\optimize.py:203: ConvergenceWarning: newton-cg failed to converge. Increase the number of iterations.\n",
      "  \"number of iterations.\", ConvergenceWarning)\n",
      "C:\\Users\\woosung\\Anaconda3\\lib\\site-packages\\sklearn\\utils\\optimize.py:203: ConvergenceWarning: newton-cg failed to converge. Increase the number of iterations.\n",
      "  \"number of iterations.\", ConvergenceWarning)\n",
      "C:\\Users\\woosung\\Anaconda3\\lib\\site-packages\\sklearn\\utils\\optimize.py:203: ConvergenceWarning: newton-cg failed to converge. Increase the number of iterations.\n",
      "  \"number of iterations.\", ConvergenceWarning)\n",
      "C:\\Users\\woosung\\Anaconda3\\lib\\site-packages\\sklearn\\utils\\optimize.py:203: ConvergenceWarning: newton-cg failed to converge. Increase the number of iterations.\n",
      "  \"number of iterations.\", ConvergenceWarning)\n",
      "C:\\Users\\woosung\\Anaconda3\\lib\\site-packages\\sklearn\\utils\\optimize.py:203: ConvergenceWarning: newton-cg failed to converge. Increase the number of iterations.\n",
      "  \"number of iterations.\", ConvergenceWarning)\n",
      "C:\\Users\\woosung\\Anaconda3\\lib\\site-packages\\sklearn\\utils\\optimize.py:203: ConvergenceWarning: newton-cg failed to converge. Increase the number of iterations.\n",
      "  \"number of iterations.\", ConvergenceWarning)\n",
      "C:\\Users\\woosung\\Anaconda3\\lib\\site-packages\\sklearn\\utils\\optimize.py:203: ConvergenceWarning: newton-cg failed to converge. Increase the number of iterations.\n",
      "  \"number of iterations.\", ConvergenceWarning)\n"
     ]
    }
   ],
   "source": [
    "lrnt = LogisticRegression(random_state=0,solver='newton-cg')\n",
    "lrnt.fit(X_train,y_train)\n",
    "y_pred_nt = lrnt.predict(X_test)\n",
    "scores_nt = cross_val_score(lrnt, X_test, y_test, cv=10).mean()\n",
    "r_nt = recall_score(y_test, y_pred_nt)  \n",
    "p_nt = precision_score(y_test, y_pred_nt)  \n",
    "f1_nt = f1_score(y_test, y_pred_nt) "
   ]
  },
  {
   "cell_type": "code",
   "execution_count": 15,
   "metadata": {},
   "outputs": [],
   "source": [
    "lr_lbfgs = LogisticRegression(random_state=0,solver='lbfgs') \n",
    "lr_lbfgs.fit(X_train,y_train)\n",
    "y_pred_lbfgs = lr_lbfgs.predict(X_test)\n",
    "scores_lbfgs = cross_val_score(lr_lbfgs, X_test, y_test, cv=10).mean()\n",
    "r_lbfgs = recall_score(y_test, y_pred_lbfgs)  \n",
    "p_lbfgs = precision_score(y_test, y_pred_lbfgs)  \n",
    "f1_lbfgs = f1_score(y_test, y_pred_lbfgs) "
   ]
  },
  {
   "cell_type": "code",
   "execution_count": 16,
   "metadata": {},
   "outputs": [],
   "source": [
    "lr_sag = LogisticRegression(random_state=0,solver='sag',max_iter = 10000)\n",
    "lr_sag.fit(X_train,y_train)\n",
    "y_pred_sag = lr_sag.predict(X_test)\n",
    "scores_sag = cross_val_score(lr_sag, X_test, y_test, cv=10).mean()\n",
    "r_sag = recall_score(y_test, y_pred_sag)  \n",
    "p_sag = precision_score(y_test, y_pred_sag)  \n",
    "f1_sag = f1_score(y_test, y_pred_sag) "
   ]
  },
  {
   "cell_type": "code",
   "execution_count": 17,
   "metadata": {},
   "outputs": [],
   "source": [
    "lr_saga = LogisticRegression(random_state=0,solver='saga', max_iter = 10000)\n",
    "lr_saga.fit(X_train,y_train)\n",
    "y_pred_saga = lr_saga.predict(X_test)\n",
    "scores_saga = cross_val_score(lr_saga, X_test, y_test, cv=10).mean()\n",
    "r_saga = recall_score(y_test, y_pred_saga)  \n",
    "p_saga = precision_score(y_test, y_pred_saga)  \n",
    "f1_saga = f1_score(y_test, y_pred_saga) "
   ]
  },
  {
   "cell_type": "code",
   "execution_count": 18,
   "metadata": {
    "scrolled": true
   },
   "outputs": [
    {
     "data": {
      "image/png": "[encoded data removed]",
      "text/plain": [
       "<Figure size 432x288 with 1 Axes>"
      ]
     },
     "metadata": {
      "needs_background": "light"
     },
     "output_type": "display_data"
    }
   ],
   "source": [
    "N = 5\n",
    "\n",
    "ind = np.arange(N)\n",
    "width = 0.15\n",
    "fig, ax = plt.subplots()\n",
    "\n",
    "accu = [scores,scores_nt,scores_lbfgs,scores_sag,scores_saga]\n",
    "rects1 = ax.bar(ind, accu, width, color='b')\n",
    "prec = [p,p_nt,p_lbfgs,p_sag,p_saga]\n",
    "rects2 = ax.bar(ind+width, prec, width, color='y')\n",
    "rec = [r,r_nt,r_lbfgs,r_sag,r_saga]\n",
    "rects3 = ax.bar(ind + 2 * width, rec, width, color='r')\n",
    "f1score = [f1,f1_nt,f1_lbfgs,f1_sag,f1_saga]\n",
    "rects4 = ax.bar(ind+ 3 * width, f1score,  width, color='g')\n",
    "\n",
    "\n",
    "ax.set_ylabel('Scores')\n",
    "ax.set_title('Scores for different solver functions')\n",
    "ax.set_xticks(ind + 1.5*width)\n",
    "ax.set_xticklabels(('liblinear','newton-cg','lbfgs','sag','saga'))\n",
    "ax.legend((rects1[0], rects2[0], rects3[0],rects4[0]), ('Accuracy', 'Precision', 'Recall','f1 Score'),loc=4)\n",
    "\n",
    "plt.show()"
   ]
  },
  {
   "cell_type": "markdown",
   "metadata": {},
   "source": [
    "neuton-cg and lbfgs are best performing one 0.9965778474399164"
   ]
  },
  {
   "cell_type": "markdown",
   "metadata": {},
   "source": [
    "will go with lbfgs, with more max-iter on newton-cg, accuracy decreased on it"
   ]
  },
  {
   "cell_type": "code",
   "execution_count": 19,
   "metadata": {},
   "outputs": [],
   "source": [
    "#multi_class : str, {‘ovr’, ‘multinomial’, ‘auto’}, default: ‘ovr’"
   ]
  },
  {
   "cell_type": "code",
   "execution_count": 20,
   "metadata": {},
   "outputs": [],
   "source": [
    "lr = LogisticRegression(random_state=0,solver ='lbfgs') # multi class = ovr\n",
    "lr.fit(X_train,y_train) \n",
    "y_pred = lr.predict(X_test)\n",
    "scores = cross_val_score(lr, X_test, y_test, cv=10).mean()\n",
    "r =recall_score(y_test, y_pred)  \n",
    "p =precision_score(y_test, y_pred)  \n",
    "f1 =f1_score(y_test, y_pred)  "
   ]
  },
  {
   "cell_type": "code",
   "execution_count": 21,
   "metadata": {},
   "outputs": [],
   "source": [
    "lr_mn = LogisticRegression(random_state=0, solver ='lbfgs', multi_class = 'multinomial')\n",
    "lr_mn.fit(X_train,y_train)\n",
    "y_pred_mn = lr_mn.predict(X_test)\n",
    "scores_mn = cross_val_score(lr_mn, X_test, y_test, cv=10).mean()\n",
    "r_mn = recall_score(y_test, y_pred_mn)  \n",
    "p_mn = precision_score(y_test, y_pred_mn)  \n",
    "f1_mn = f1_score(y_test, y_pred_mn) "
   ]
  },
  {
   "cell_type": "code",
   "execution_count": 22,
   "metadata": {
    "scrolled": true
   },
   "outputs": [
    {
     "data": {
      "image/png": "[encoded data removed]",
      "text/plain": [
       "<Figure size 432x288 with 1 Axes>"
      ]
     },
     "metadata": {
      "needs_background": "light"
     },
     "output_type": "display_data"
    }
   ],
   "source": [
    "N = 2\n",
    "\n",
    "ind = np.arange(N)\n",
    "width = 0.15\n",
    "fig, ax = plt.subplots()\n",
    "\n",
    "accu = [scores,scores_mn]\n",
    "rects1 = ax.bar(ind, accu, width, color='b')\n",
    "prec = [p,p_mn]\n",
    "rects2 = ax.bar(ind+width, prec, width, color='y')\n",
    "rec = [r,r_mn]\n",
    "rects3 = ax.bar(ind + 2 * width, rec, width, color='r')\n",
    "f1score = [f1,f1_mn]\n",
    "rects4 = ax.bar(ind+ 3 * width, f1score,  width, color='g')\n",
    "\n",
    "ax.set_ylabel('Scores')\n",
    "ax.set_title('Scores for multi_classes')\n",
    "ax.set_xticks(ind + 1.5*width)\n",
    "ax.set_xticklabels(('ovr','multinomial'))\n",
    "ax.legend((rects1[0], rects2[0], rects3[0],rects4[0]), ('Accuracy', 'Precision', 'Recall','f1 Score'))\n",
    "\n",
    "plt.show()"
   ]
  },
  {
   "cell_type": "markdown",
   "metadata": {},
   "source": [
    "no difference between 2, will go with multinomial because \"auto\" multi class multinomial first."
   ]
  },
  {
   "cell_type": "code",
   "execution_count": null,
   "metadata": {},
   "outputs": [],
   "source": []
  },
  {
   "cell_type": "code",
   "execution_count": 23,
   "metadata": {},
   "outputs": [
    {
     "data": {
      "text/plain": [
       "'\\nTolerance \\n'"
      ]
     },
     "execution_count": 23,
     "metadata": {},
     "output_type": "execute_result"
    }
   ],
   "source": [
    "\"\"\"\n",
    "Tolerance \n",
    "\"\"\""
   ]
  },
  {
   "cell_type": "code",
   "execution_count": 24,
   "metadata": {},
   "outputs": [],
   "source": [
    "lr = LogisticRegression(random_state=0,solver ='lbfgs', multi_class = 'multinomial') #default 1e-4\n",
    "lr.fit(X_train,y_train) \n",
    "y_pred = lr.predict(X_test)\n",
    "scores = cross_val_score(lr, X_test, y_test, cv=10).mean()\n",
    "r =recall_score(y_test, y_pred)  \n",
    "p =precision_score(y_test, y_pred)  \n",
    "f1 =f1_score(y_test, y_pred)  "
   ]
  },
  {
   "cell_type": "code",
   "execution_count": 25,
   "metadata": {},
   "outputs": [],
   "source": [
    "lr_t3 = LogisticRegression(random_state=0,solver ='lbfgs', multi_class = 'multinomial', tol= 1e-3) #default 1e-4\n",
    "lr_t3.fit(X_train,y_train) \n",
    "y_pred_t3 = lr_t3.predict(X_test)\n",
    "scores_t3 = cross_val_score(lr_t3, X_test, y_test, cv=10).mean()\n",
    "r_t3 =recall_score(y_test, y_pred_t3)  \n",
    "p_t3 =precision_score(y_test, y_pred_t3)  \n",
    "f1_t3 =f1_score(y_test, y_pred_t3)  "
   ]
  },
  {
   "cell_type": "code",
   "execution_count": 26,
   "metadata": {},
   "outputs": [],
   "source": [
    "lr_t5 = LogisticRegression(random_state=0,solver ='lbfgs', multi_class = 'multinomial', tol= 1e-5) #default 1e-4\n",
    "lr_t5.fit(X_train,y_train) \n",
    "y_pred_t5 = lr_t5.predict(X_test)\n",
    "scores_t5 = cross_val_score(lr_t5, X_test, y_test, cv=10).mean()\n",
    "r_t5 =recall_score(y_test, y_pred_t5)  \n",
    "p_t5 =precision_score(y_test, y_pred_t5)  \n",
    "f1_t5 =f1_score(y_test, y_pred_t5)  "
   ]
  },
  {
   "cell_type": "code",
   "execution_count": 27,
   "metadata": {},
   "outputs": [
    {
     "data": {
      "image/png": "[encoded data removed]",
      "text/plain": [
       "<Figure size 432x288 with 1 Axes>"
      ]
     },
     "metadata": {
      "needs_background": "light"
     },
     "output_type": "display_data"
    }
   ],
   "source": [
    "N =3\n",
    "\n",
    "ind = np.arange(N)\n",
    "width = 0.15\n",
    "fig, ax = plt.subplots()\n",
    "\n",
    "accu = [scores_t3,scores,scores_t5]\n",
    "rects1 = ax.bar(ind, accu, width, color='b')\n",
    "prec = [p_t3,p,p_t5]\n",
    "rects2 = ax.bar(ind+width, prec, width, color='y')\n",
    "rec = [r_t3,r,r_t5]\n",
    "rects3 = ax.bar(ind + 2 * width, rec, width, color='r')\n",
    "f1score = [f1_t3,f1,f1_t5]\n",
    "rects4 = ax.bar(ind+ 3 * width, f1score,  width, color='g')\n",
    "\n",
    "ax.set_ylabel('Scores')\n",
    "ax.set_title('Scores for difference tolerance')\n",
    "ax.set_xticks(ind + 1.5*width)\n",
    "ax.set_xticklabels(('1e-3','1e-4','1e-5'))\n",
    "ax.legend((rects1[0], rects2[0], rects3[0],rects4[0]), ('Accuracy', 'Precision', 'Recall','f1 Score'),loc=4)\n",
    "\n",
    "plt.show()"
   ]
  },
  {
   "cell_type": "markdown",
   "metadata": {},
   "source": [
    "no difference, we will go with 1e-4 which is a default"
   ]
  },
  {
   "cell_type": "code",
   "execution_count": 28,
   "metadata": {},
   "outputs": [],
   "source": [
    "\"\"\"\n",
    "C\n",
    "\"\"\"\n",
    "lr = LogisticRegression(random_state=0,solver ='lbfgs', multi_class = 'multinomial') #default 1\n",
    "lr.fit(X_train,y_train) \n",
    "y_pred = lr.predict(X_test)\n",
    "scores = cross_val_score(lr, X_test, y_test, cv=10).mean()\n",
    "r =recall_score(y_test, y_pred)  \n",
    "p =precision_score(y_test, y_pred)  \n",
    "f1 =f1_score(y_test, y_pred)  \n"
   ]
  },
  {
   "cell_type": "code",
   "execution_count": 29,
   "metadata": {},
   "outputs": [],
   "source": [
    "lr_c8 = LogisticRegression(random_state=0,solver ='lbfgs', multi_class = 'multinomial', C = 0.8) #default 1\n",
    "lr_c8.fit(X_train,y_train) \n",
    "y_pred_c8 = lr_c8.predict(X_test)\n",
    "scores_c8 = cross_val_score(lr_c8, X_test, y_test, cv=10).mean()\n",
    "r_c8 =recall_score(y_test, y_pred_c8)  \n",
    "p_c8 =precision_score(y_test, y_pred_c8)  \n",
    "f1_c8 =f1_score(y_test, y_pred_c8)  \n"
   ]
  },
  {
   "cell_type": "code",
   "execution_count": 30,
   "metadata": {},
   "outputs": [],
   "source": [
    "lr_c6 = LogisticRegression(random_state=0,solver ='lbfgs', multi_class = 'multinomial',C = 0.6) #default 1\n",
    "lr_c6.fit(X_train,y_train) \n",
    "y_pred_c6 = lr_c6.predict(X_test)\n",
    "scores_c6 = cross_val_score(lr_c6, X_test, y_test, cv=10).mean()\n",
    "r_c6 =recall_score(y_test, y_pred_c6)  \n",
    "p_c6 =precision_score(y_test, y_pred_c6)  \n",
    "f1_c6 =f1_score(y_test, y_pred_c6)  \n"
   ]
  },
  {
   "cell_type": "code",
   "execution_count": 31,
   "metadata": {},
   "outputs": [],
   "source": [
    "lr_c4 = LogisticRegression(random_state=0,solver ='lbfgs', multi_class = 'multinomial', C= 0.4) #default 1\n",
    "lr_c4.fit(X_train,y_train) \n",
    "y_pred_c4 = lr_c4.predict(X_test)\n",
    "scores_c4 = cross_val_score(lr_c4, X_test, y_test, cv=10).mean()\n",
    "r_c4 =recall_score(y_test, y_pred_c4)  \n",
    "p_c4 =precision_score(y_test, y_pred_c4)  \n",
    "f1_c4 =f1_score(y_test, y_pred_c4)  \n"
   ]
  },
  {
   "cell_type": "code",
   "execution_count": 32,
   "metadata": {
    "scrolled": true
   },
   "outputs": [
    {
     "data": {
      "image/png": "[encoded data removed]",
      "text/plain": [
       "<Figure size 432x288 with 1 Axes>"
      ]
     },
     "metadata": {
      "needs_background": "light"
     },
     "output_type": "display_data"
    }
   ],
   "source": [
    "N =4\n",
    "\n",
    "ind = np.arange(N)\n",
    "width = 0.15\n",
    "fig, ax = plt.subplots()\n",
    "\n",
    "accu = [scores_c4,scores_c6,scores_c8,scores]\n",
    "rects1 = ax.bar(ind, accu, width, color='b')\n",
    "prec = [p_c4,p_c6,p_c8,p]\n",
    "rects2 = ax.bar(ind+width, prec, width, color='y')\n",
    "rec = [r_c4,r_c6,r_c8,r]\n",
    "rects3 = ax.bar(ind + 2 * width, rec, width, color='r')\n",
    "f1score = [f1_c4,f1_c6,f1_c8,f1]\n",
    "rects4 = ax.bar(ind+ 3 * width, f1score,  width, color='g')\n",
    "\n",
    "ax.set_ylabel('Scores')\n",
    "ax.set_title('Scores for diffrent Inverse of regularization strength C')\n",
    "ax.set_xticks(ind + 1.5*width)\n",
    "ax.set_xticklabels(('0.4','0.6','0.8','1'))\n",
    "ax.legend((rects1[0], rects2[0], rects3[0],rects4[0]), ('Accuracy', 'Precision', 'Recall','f1 Score'),loc=4)\n",
    "\n",
    "plt.show()"
   ]
  },
  {
   "cell_type": "markdown",
   "metadata": {},
   "source": [
    "C = 0.8 has the highest accuracy\n"
   ]
  },
  {
   "cell_type": "code",
   "execution_count": 43,
   "metadata": {},
   "outputs": [],
   "source": [
    "\"\"\"\n",
    "Final Model\n",
    "\"\"\"\n",
    "lr = LogisticRegression(random_state=0,solver ='lbfgs', multi_class = 'multinomial', C = 0.8) #default 1\n",
    "lr.fit(X_train,y_train) \n",
    "y_pred = lr.predict(X_test)\n",
    "scores = cross_val_score(lr, X_test, y_test, cv=10).mean()\n",
    "r =recall_score(y_test, y_pred)  \n",
    "p =precision_score(y_test, y_pred)  \n",
    "f1 =f1_score(y_test, y_pred)  \n"
   ]
  },
  {
   "cell_type": "code",
   "execution_count": 44,
   "metadata": {
    "scrolled": true
   },
   "outputs": [
    {
     "data": {
      "image/png": "[encoded data removed]",
      "text/plain": [
       "<Figure size 432x288 with 1 Axes>"
      ]
     },
     "metadata": {
      "needs_background": "light"
     },
     "output_type": "display_data"
    }
   ],
   "source": [
    "objects = scores,p,r,f1\n",
    "y_pos = np.arange(len(objects))\n",
    " \n",
    "plt.bar(y_pos, objects, align='center', alpha=0.5)\n",
    "plt.xticks([0, 1, 2, 3], [\"accuracy\", \"precision\", \"recall\", \"f1-score\"])\n",
    "plt.ylabel('Score')\n",
    "plt.title('Logistic Regression Model Scores')\n",
    " \n",
    "plt.show()"
   ]
  },
  {
   "cell_type": "code",
   "execution_count": 45,
   "metadata": {},
   "outputs": [
    {
     "data": {
      "text/plain": [
       "(0.9977272727272727, 0.9977477477477478, 1.0, 0.9988726042841037)"
      ]
     },
     "execution_count": 45,
     "metadata": {},
     "output_type": "execute_result"
    }
   ],
   "source": [
    "objects  #[\"accuracy\", \"precision\", \"recall\", \"f1-score\"])"
   ]
  },
  {
   "cell_type": "code",
   "execution_count": 46,
   "metadata": {
    "scrolled": false
   },
   "outputs": [
    {
     "name": "stdout",
     "output_type": "stream",
     "text": [
      "Feature ranking:\n",
      "1. feature 1 (0.677379)\n",
      "2. feature 2 (0.338681)\n",
      "3. feature 5 (0.198397)\n",
      "4. feature 17 (0.023141)\n",
      "5. feature 8 (0.020024)\n",
      "6. feature 13 (0.017684)\n",
      "7. feature 3 (0.017451)\n",
      "8. feature 4 (0.012737)\n",
      "9. feature 14 (0.012280)\n",
      "10. feature 6 (0.007828)\n",
      "11. feature 7 (0.007005)\n",
      "12. feature 15 (0.003423)\n",
      "13. feature 9 (0.002848)\n",
      "14. feature 10 (0.000781)\n",
      "15. feature 12 (0.000318)\n",
      "16. feature 0 (0.000107)\n",
      "17. feature 16 (0.000001)\n",
      "18. feature 11 (0.000000)\n"
     ]
    },
    {
     "data": {
      "image/png": "[encoded data removed]",
      "text/plain": [
       "<Figure size 432x288 with 1 Axes>"
      ]
     },
     "metadata": {
      "needs_background": "light"
     },
     "output_type": "display_data"
    }
   ],
   "source": [
    "weights = lr.coef_[0]\n",
    "importances = np.abs(weights)\n",
    "\n",
    "indices = np.argsort(importances)[::-1]\n",
    "print(\"Feature ranking:\")\n",
    "\n",
    "for f in range(X.shape[1]):\n",
    "    print(\"%d. feature %d (%f)\" % (f + 1, indices[f], importances[indices[f]]))\n",
    "\n",
    "# Plot the feature importances of the forest\n",
    "plt.figure()\n",
    "plt.title(\"Feature importances\")\n",
    "plt.bar(range(X.shape[1]), importances[indices],\n",
    "       color=\"r\", align=\"center\")\n",
    "plt.xticks(range(X.shape[1]), indices)\n",
    "plt.xlim([-1, X.shape[1]])\n",
    "plt.show()"
   ]
  },
  {
   "cell_type": "markdown",
   "metadata": {},
   "source": [
    "'budget','revenue','popularity','runtime','castRevBudRatio','january','february','march','april','may','june','july','august','september','october','november','december'"
   ]
  },
  {
   "cell_type": "code",
   "execution_count": 47,
   "metadata": {
    "scrolled": true
   },
   "outputs": [
    {
     "name": "stdout",
     "output_type": "stream",
     "text": [
      "[-1.06525028e-04  6.77379399e-01 -3.38681162e-01  1.74513073e-02\n",
      "  1.27373110e-02 -1.98397025e-01  7.82802648e-03 -7.00479601e-03\n",
      " -2.00241494e-02  2.84828601e-03 -7.81083701e-04 -7.10320199e-09\n",
      "  3.18387021e-04  1.76835001e-02  1.22797897e-02  3.42288680e-03\n",
      "  7.85076794e-07 -2.31409441e-02]\n",
      "[0.6773793990909025, 0.01768350012056071, 0.01745130732534382, 0.012737311039274436, 0.01227978970508243, 0.007828026476505903, 0.0034228868035527027, 0.0028482860148820823, 0.0003183870205885638, 7.850767938717456e-07, -7.103201987520392e-09, -0.00010652502801472384, -0.0007810837013224361, -0.007004796005973052, -0.02002414937800889, -0.02314094405391629, -0.19839702542192275, -0.3386811615627606]\n",
      "[ 1 13  3  4 14  6 15  9 12 16 11  0 10  7  8 17  5  2]\n"
     ]
    }
   ],
   "source": [
    "print(weights)\n",
    "print(sorted(weights)[::-1])\n",
    "print(np.argsort(weights)[::-1])\n"
   ]
  },
  {
   "cell_type": "markdown",
   "metadata": {},
   "source": [
    "positive correlation: 1  Positive correlation below 0.0 coef: 13  3  4 14  6 15  9 12 16 11"
   ]
  },
  {
   "cell_type": "markdown",
   "metadata": {},
   "source": [
    "Neg correlation: 2  Neg correlation below 0.0 coef:  0 10  7  8 17  5 "
   ]
  },
  {
   "cell_type": "code",
   "execution_count": null,
   "metadata": {},
   "outputs": [],
   "source": []
  },
  {
   "cell_type": "code",
   "execution_count": null,
   "metadata": {},
   "outputs": [],
   "source": []
  }
 ],
 "metadata": {
  "kernelspec": {
   "display_name": "Python 3",
   "language": "python",
   "name": "python3"
  },
  "language_info": {
   "codemirror_mode": {
    "name": "ipython",
    "version": 3
   },
   "file_extension": ".py",
   "mimetype": "text/x-python",
   "name": "python",
   "nbconvert_exporter": "python",
   "pygments_lexer": "ipython3",
   "version": "3.7.0"
  }
 },
 "nbformat": 4,
 "nbformat_minor": 2
}
