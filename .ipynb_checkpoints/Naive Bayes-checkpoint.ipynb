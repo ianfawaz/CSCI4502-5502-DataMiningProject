{
 "cells": [
  {
   "cell_type": "code",
   "execution_count": 2,
   "metadata": {},
   "outputs": [],
   "source": [
    "import numpy as np\n",
    "import pandas as pd\n",
    "import matplotlib.pyplot as plt\n",
    "from sklearn.model_selection import cross_val_score\n",
    "from sklearn.metrics import average_precision_score\n",
    "from sklearn.metrics import precision_recall_curve\n",
    "from sklearn.utils.fixes import signature\n",
    "from sklearn.metrics import recall_score\n",
    "from sklearn.metrics import precision_score\n",
    "from sklearn.metrics import f1_score\n",
    "from sklearn.naive_bayes import GaussianNB\n"
   ]
  },
  {
   "cell_type": "code",
   "execution_count": 3,
   "metadata": {
    "scrolled": true
   },
   "outputs": [],
   "source": [
    "cleanmeta = pd.read_csv(\"actormetaMonths.csv\")\n",
    "cleanmeta = cleanmeta[['budget','revenue','popularity','runtime','castRevBudRatio','january','february','march','april','may','june','july','august','september','october','november','december']]\n",
    "cleanmeta = cleanmeta.dropna()\n",
    "cleanmeta = cleanmeta.reset_index()\n",
    "X = cleanmeta[['budget','popularity','runtime','castRevBudRatio','january','february','march','april','may','june','july','august','september','october','november','december']].values\n",
    "y = cleanmeta['revenue']/cleanmeta['budget'].values"
   ]
  },
  {
   "cell_type": "code",
   "execution_count": null,
   "metadata": {},
   "outputs": [],
   "source": []
  },
  {
   "cell_type": "code",
   "execution_count": 4,
   "metadata": {},
   "outputs": [],
   "source": [
    "for i in range(0,len(y)):\n",
    "    if y[i] > 2:\n",
    "        y[i] = 0 #success\n",
    "    else:\n",
    "        y[i] = 1 #failure"
   ]
  },
  {
   "cell_type": "code",
   "execution_count": 5,
   "metadata": {},
   "outputs": [],
   "source": [
    "X_train = X[:4500]\n",
    "X_test = X[4500:]\n",
    "\n",
    "y_train = y[:4500]\n",
    "y_test = y[4500:]"
   ]
  },
  {
   "cell_type": "code",
   "execution_count": 6,
   "metadata": {},
   "outputs": [],
   "source": [
    "#Using Gaussian since our data is continuous\n",
    "\"\"\"\n",
    "var_smoothing\n",
    "\"\"\"\n",
    "clf = GaussianNB() #default 1e-9\n",
    "clf.fit(X_train,y_train)\n",
    "y_pred = clf.predict(X_test)\n",
    "scores = cross_val_score(clf, X_test, y_test, cv=10).mean()\n",
    "p = cross_val_score(clf , X_test, y_test, cv=10, scoring='precision').mean()\n",
    "r = cross_val_score(clf , X_test, y_test, cv=10, scoring='recall').mean()\n",
    "f1 = cross_val_score(clf , X_test, y_test, cv=10, scoring='f1').mean()"
   ]
  },
  {
   "cell_type": "code",
   "execution_count": 7,
   "metadata": {},
   "outputs": [],
   "source": [
    "clf_e8 = GaussianNB(var_smoothing=1e-8)\n",
    "clf_e8.fit(X_train,y_train)\n",
    "y_pred_e8 = clf_e8.predict(X_test)\n",
    "scores_e8 = cross_val_score(clf_e8, X_test, y_test, cv=10).mean()\n",
    "p_e8 = cross_val_score(clf_e8 , X_test, y_test, cv=10, scoring='precision').mean()\n",
    "r_e8 = cross_val_score(clf_e8 , X_test, y_test, cv=10, scoring='recall').mean()\n",
    "f1_e8 = cross_val_score(clf_e8 , X_test, y_test, cv=10, scoring='f1').mean()"
   ]
  },
  {
   "cell_type": "code",
   "execution_count": 8,
   "metadata": {},
   "outputs": [],
   "source": [
    "clf_e7 = GaussianNB(var_smoothing=1e-7) \n",
    "clf_e7.fit(X_train,y_train)\n",
    "y_pred_e7 = clf_e7.predict(X_test)\n",
    "scores_e7 = cross_val_score(clf_e7, X_test, y_test, cv=10).mean()\n",
    "p_e7 = cross_val_score(clf_e7 , X_test, y_test, cv=10, scoring='precision').mean()\n",
    "r_e7 = cross_val_score(clf_e7 , X_test, y_test, cv=10, scoring='recall').mean()\n",
    "f1_e7 = cross_val_score(clf_e7 , X_test, y_test, cv=10, scoring='f1').mean() "
   ]
  },
  {
   "cell_type": "code",
   "execution_count": 9,
   "metadata": {},
   "outputs": [],
   "source": [
    "clf_e6 = GaussianNB(var_smoothing=1e-6) \n",
    "clf_e6.fit(X_train,y_train)\n",
    "y_pred_e6 = clf_e6.predict(X_test)\n",
    "scores_e6 = cross_val_score(clf_e6, X_test, y_test, cv=10).mean()\n",
    "p_e6 = cross_val_score(clf_e6 , X_test, y_test, cv=10, scoring='precision').mean()\n",
    "r_e6 = cross_val_score(clf_e6 , X_test, y_test, cv=10, scoring='recall').mean()\n",
    "f1_e6 = cross_val_score(clf_e6 , X_test, y_test, cv=10, scoring='f1').mean() "
   ]
  },
  {
   "cell_type": "code",
   "execution_count": 10,
   "metadata": {},
   "outputs": [
    {
     "data": {
      "image/png": "[encoded data removed]",
      "text/plain": [
       "<Figure size 432x288 with 1 Axes>"
      ]
     },
     "metadata": {
      "needs_background": "light"
     },
     "output_type": "display_data"
    }
   ],
   "source": [
    "N =4\n",
    "\n",
    "ind = np.arange(N)\n",
    "width = 0.15\n",
    "fig, ax = plt.subplots()\n",
    "\n",
    "accu = [scores,scores_e8,scores_e7,scores_e6]\n",
    "rects1 = ax.bar(ind, accu, width, color='b')\n",
    "prec = [p,p_e8,p_e7,p_e6]\n",
    "rects2 = ax.bar(ind+width, prec, width, color='y')\n",
    "rec = [r,r_e8,r_e7,r_e6]\n",
    "rects3 = ax.bar(ind + 2 * width, rec, width, color='r')\n",
    "f1score = [f1,f1_e8,f1_e7,f1_e6]\n",
    "rects4 = ax.bar(ind+ 3 * width, f1score,  width, color='g')\n",
    "\n",
    "ax.set_ylabel('Score')\n",
    "ax.set_xlabel('var_smoothing value')\n",
    "ax.set_title('Var_smoothing scores')\n",
    "ax.set_xticks(ind + 1.5*width)\n",
    "ax.set_xticklabels(('1e-9','1e-8','1e-7','1e-6'))\n",
    "ax.legend((rects1[0], rects2[0], rects3[0],rects4[0]), ('Accuracy', 'Precision', 'Recall','f1 Score'),loc=4)\n",
    "\n",
    "plt.show()"
   ]
  },
  {
   "cell_type": "code",
   "execution_count": 11,
   "metadata": {},
   "outputs": [
    {
     "data": {
      "text/plain": [
       "[0.5550864123607246,\n",
       " 0.5550864123607246,\n",
       " 0.5550864123607246,\n",
       " 0.5550864123607246]"
      ]
     },
     "execution_count": 11,
     "metadata": {},
     "output_type": "execute_result"
    }
   ],
   "source": [
    "accu"
   ]
  },
  {
   "cell_type": "markdown",
   "metadata": {},
   "source": [
    "all params give same accuracy\n",
    "since default is one of the best, we will go with default 1e-9"
   ]
  },
  {
   "cell_type": "code",
   "execution_count": 17,
   "metadata": {},
   "outputs": [
    {
     "name": "stdout",
     "output_type": "stream",
     "text": [
      "0.900909090909091\n",
      "0.5550864123607246\n"
     ]
    }
   ],
   "source": [
    "clf = GaussianNB() #default 1e-9\n",
    "clf.fit(X_train,y_train)\n",
    "y_pred = clf.predict(X_test)\n",
    "scores = cross_val_score(clf, X_test, y_test, cv=10).mean()\n",
    "p = cross_val_score(clf , X_test, y_test, cv=10, scoring='precision').mean()\n",
    "r = cross_val_score(clf , X_test, y_test, cv=10, scoring='recall').mean()\n",
    "f1 = cross_val_score(clf , X_test, y_test, cv=10, scoring='f1').mean() \n",
    "print(r)\n",
    "print(scores)"
   ]
  },
  {
   "cell_type": "code",
   "execution_count": 14,
   "metadata": {},
   "outputs": [
    {
     "data": {
      "image/png": "[encoded data removed]",
      "text/plain": [
       "<Figure size 432x288 with 1 Axes>"
      ]
     },
     "metadata": {
      "needs_background": "light"
     },
     "output_type": "display_data"
    }
   ],
   "source": [
    "objects = scores,p,r,f1\n",
    "y_pos = np.arange(len(objects))\n",
    " \n",
    "plt.bar(y_pos, objects, align='center', alpha=0.5)\n",
    "plt.xticks([0, 1, 2, 3], [\"accuracy\", \"precision\", \"recall\", \"f1-score\"])\n",
    "plt.ylabel('Score')\n",
    "plt.xlabel('Scoring metric')\n",
    "plt.title('Naive Bayes Model Scores')\n",
    "\n",
    "plt.show()"
   ]
  },
  {
   "cell_type": "code",
   "execution_count": null,
   "metadata": {},
   "outputs": [],
   "source": []
  }
 ],
 "metadata": {
  "kernelspec": {
   "display_name": "Python 3",
   "language": "python",
   "name": "python3"
  },
  "language_info": {
   "codemirror_mode": {
    "name": "ipython",
    "version": 3
   },
   "file_extension": ".py",
   "mimetype": "text/x-python",
   "name": "python",
   "nbconvert_exporter": "python",
   "pygments_lexer": "ipython3",
   "version": "3.6.6"
  }
 },
 "nbformat": 4,
 "nbformat_minor": 2
}
