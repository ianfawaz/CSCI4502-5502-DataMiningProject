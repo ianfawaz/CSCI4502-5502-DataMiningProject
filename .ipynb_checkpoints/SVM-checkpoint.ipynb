{
 "cells": [
  {
   "cell_type": "code",
   "execution_count": 1,
   "metadata": {},
   "outputs": [],
   "source": [
    "import numpy as np\n",
    "from sklearn.linear_model import LinearRegression\n",
    "import pandas as pd\n",
    "import matplotlib.pyplot as plt\n",
    "from sklearn.metrics import mean_squared_error\n",
    "from sklearn.metrics import r2_score\n",
    "from sklearn.svm import SVR\n",
    "from sklearn.svm import SVC\n",
    "from sklearn.model_selection import cross_val_score\n",
    "from sklearn.metrics import recall_score\n",
    "from sklearn.metrics import precision_score\n",
    "from sklearn.metrics import f1_score"
   ]
  },
  {
   "cell_type": "code",
   "execution_count": 2,
   "metadata": {},
   "outputs": [],
   "source": [
    "cleanmeta = pd.read_csv(\"actormetaMonths.csv\")\n",
    "cleanmeta = cleanmeta[['budget','revenue','popularity','runtime','castRevBudRatio','january','february','march','april','may','june','july','august','september','october','november','december']]\n",
    "cleanmeta = cleanmeta.dropna()\n",
    "cleanmeta = cleanmeta.reset_index()\n",
    "#X = cleanmeta.values\n",
    "#y = cleanmeta['revenue']/cleanmeta['budget'].values\n",
    "X = cleanmeta[['budget','popularity','runtime','castRevBudRatio','january','february','march','april','may','june','july','august','september','october','november','december']].values\n",
    "y = cleanmeta['revenue']/cleanmeta['budget'].values"
   ]
  },
  {
   "cell_type": "code",
   "execution_count": 3,
   "metadata": {},
   "outputs": [],
   "source": [
    "for i in range(0,len(y)):\n",
    "    if y[i] > 2:\n",
    "        y[i] = 0 #success\n",
    "    else:\n",
    "        y[i] = 1 #failure"
   ]
  },
  {
   "cell_type": "code",
   "execution_count": 4,
   "metadata": {},
   "outputs": [],
   "source": [
    "X_train = X[:4500]\n",
    "X_test = X[4500:]\n",
    "\n",
    "y_train = y[:4500]\n",
    "y_test = y[4500:]"
   ]
  },
  {
   "cell_type": "code",
   "execution_count": 5,
   "metadata": {
    "scrolled": true
   },
   "outputs": [],
   "source": [
    "#X_train[0:5]"
   ]
  },
  {
   "cell_type": "code",
   "execution_count": 6,
   "metadata": {},
   "outputs": [
    {
     "name": "stdout",
     "output_type": "stream",
     "text": [
      "0    0.0\n",
      "1    0.0\n",
      "2    0.0\n",
      "3    0.0\n",
      "4    1.0\n",
      "Name: revenue, dtype: float64\n"
     ]
    }
   ],
   "source": [
    "print(y_train[0:5])"
   ]
  },
  {
   "cell_type": "code",
   "execution_count": 7,
   "metadata": {},
   "outputs": [
    {
     "name": "stdout",
     "output_type": "stream",
     "text": [
      "[[3.00000000e+07 2.19469430e+01 8.10000000e+01 7.79153871e+00\n",
      "  0.00000000e+00 0.00000000e+00 0.00000000e+00 0.00000000e+00\n",
      "  0.00000000e+00 0.00000000e+00 0.00000000e+00 0.00000000e+00\n",
      "  0.00000000e+00 1.00000000e+00 0.00000000e+00 0.00000000e+00]\n",
      " [6.50000000e+07 1.70155390e+01 1.04000000e+02 4.17657043e+00\n",
      "  0.00000000e+00 0.00000000e+00 0.00000000e+00 0.00000000e+00\n",
      "  0.00000000e+00 0.00000000e+00 0.00000000e+00 0.00000000e+00\n",
      "  0.00000000e+00 0.00000000e+00 0.00000000e+00 1.00000000e+00]\n",
      " [1.60000000e+07 3.85949500e+00 1.27000000e+02 3.11575245e+00\n",
      "  0.00000000e+00 0.00000000e+00 0.00000000e+00 0.00000000e+00\n",
      "  0.00000000e+00 0.00000000e+00 0.00000000e+00 0.00000000e+00\n",
      "  0.00000000e+00 0.00000000e+00 0.00000000e+00 1.00000000e+00]\n",
      " [6.00000000e+07 1.79249270e+01 1.70000000e+02 3.38450754e+00\n",
      "  0.00000000e+00 0.00000000e+00 0.00000000e+00 0.00000000e+00\n",
      "  0.00000000e+00 0.00000000e+00 0.00000000e+00 0.00000000e+00\n",
      "  0.00000000e+00 0.00000000e+00 0.00000000e+00 1.00000000e+00]\n",
      " [3.50000000e+07 5.23158000e+00 1.06000000e+02 2.76207177e+00\n",
      "  0.00000000e+00 0.00000000e+00 0.00000000e+00 0.00000000e+00\n",
      "  0.00000000e+00 0.00000000e+00 0.00000000e+00 0.00000000e+00\n",
      "  0.00000000e+00 0.00000000e+00 0.00000000e+00 1.00000000e+00]]\n"
     ]
    }
   ],
   "source": [
    "print(X_train[0:5])"
   ]
  },
  {
   "cell_type": "code",
   "execution_count": 8,
   "metadata": {},
   "outputs": [
    {
     "name": "stdout",
     "output_type": "stream",
     "text": [
      "0       0.0\n",
      "1       0.0\n",
      "2       0.0\n",
      "3       0.0\n",
      "4       1.0\n",
      "5       0.0\n",
      "6       1.0\n",
      "7       1.0\n",
      "8       1.0\n",
      "9       0.0\n",
      "10      0.0\n",
      "11      1.0\n",
      "12      0.0\n",
      "13      1.0\n",
      "14      0.0\n",
      "15      1.0\n",
      "16      0.0\n",
      "17      0.0\n",
      "18      1.0\n",
      "19      0.0\n",
      "20      0.0\n",
      "21      0.0\n",
      "22      0.0\n",
      "23      1.0\n",
      "24      0.0\n",
      "25      0.0\n",
      "26      0.0\n",
      "27      0.0\n",
      "28      1.0\n",
      "29      0.0\n",
      "       ... \n",
      "4470    0.0\n",
      "4471    0.0\n",
      "4472    1.0\n",
      "4473    1.0\n",
      "4474    0.0\n",
      "4475    1.0\n",
      "4476    0.0\n",
      "4477    0.0\n",
      "4478    0.0\n",
      "4479    0.0\n",
      "4480    0.0\n",
      "4481    1.0\n",
      "4482    0.0\n",
      "4483    1.0\n",
      "4484    1.0\n",
      "4485    1.0\n",
      "4486    1.0\n",
      "4487    1.0\n",
      "4488    0.0\n",
      "4489    1.0\n",
      "4490    0.0\n",
      "4491    0.0\n",
      "4492    0.0\n",
      "4493    1.0\n",
      "4494    0.0\n",
      "4495    0.0\n",
      "4496    1.0\n",
      "4497    0.0\n",
      "4498    0.0\n",
      "4499    0.0\n",
      "Name: revenue, Length: 4500, dtype: float64\n"
     ]
    }
   ],
   "source": [
    "print(y_train)"
   ]
  },
  {
   "cell_type": "code",
   "execution_count": 9,
   "metadata": {},
   "outputs": [],
   "source": [
    "X_train = np.array(X_train)\n",
    "y_train = np.array(y_train)"
   ]
  },
  {
   "cell_type": "code",
   "execution_count": 10,
   "metadata": {},
   "outputs": [
    {
     "name": "stderr",
     "output_type": "stream",
     "text": [
      "/anaconda3/lib/python3.6/site-packages/sklearn/svm/base.py:196: FutureWarning: The default value of gamma will change from 'auto' to 'scale' in version 0.22 to account better for unscaled features. Set gamma explicitly to 'auto' or 'scale' to avoid this warning.\n",
      "  \"avoid this warning.\", FutureWarning)\n"
     ]
    },
    {
     "data": {
      "text/plain": [
       "-0.04718399133636497"
      ]
     },
     "execution_count": 10,
     "metadata": {},
     "output_type": "execute_result"
    }
   ],
   "source": [
    "\n",
    "#clf = SVC(kernel = 'linear', C = 1.0)\n",
    "#clf.fit(X_train, y_train) \n",
    "#y_train = y_train.reshape(1, -1)\n",
    "clf=SVR()\n",
    "clf.fit(X_train,y_train)\n",
    "clf.score(X_test, y_test)"
   ]
  },
  {
   "cell_type": "code",
   "execution_count": 11,
   "metadata": {
    "scrolled": true
   },
   "outputs": [],
   "source": [
    "#X_train[0:4]"
   ]
  },
  {
   "cell_type": "code",
   "execution_count": 12,
   "metadata": {},
   "outputs": [],
   "source": [
    "#print(X_test[0])\n",
    "#print(y_test[0:10])"
   ]
  },
  {
   "cell_type": "code",
   "execution_count": 13,
   "metadata": {},
   "outputs": [
    {
     "data": {
      "text/plain": [
       "array([0.87860535, 0.23303328, 0.61052034, 0.44855889, 0.44855889,\n",
       "       0.44855889, 0.47265737, 0.35118091, 0.44851223, 0.44856114])"
      ]
     },
     "execution_count": 13,
     "metadata": {},
     "output_type": "execute_result"
    }
   ],
   "source": [
    "result = clf.predict(X_test)\n",
    "result[0:10]"
   ]
  },
  {
   "cell_type": "code",
   "execution_count": 14,
   "metadata": {},
   "outputs": [
    {
     "name": "stdout",
     "output_type": "stream",
     "text": [
      "[-0.41045197 -0.58234943 -0.81935123 ... -0.34886088 -0.75830178\n",
      " -0.34851679]\n"
     ]
    }
   ],
   "source": [
    "print( clf.dual_coef_[0])"
   ]
  },
  {
   "cell_type": "code",
   "execution_count": 15,
   "metadata": {},
   "outputs": [
    {
     "name": "stdout",
     "output_type": "stream",
     "text": [
      "scoring=accuracy\n"
     ]
    },
    {
     "name": "stderr",
     "output_type": "stream",
     "text": [
      "/anaconda3/lib/python3.6/site-packages/sklearn/svm/base.py:196: FutureWarning: The default value of gamma will change from 'auto' to 'scale' in version 0.22 to account better for unscaled features. Set gamma explicitly to 'auto' or 'scale' to avoid this warning.\n",
      "  \"avoid this warning.\", FutureWarning)\n"
     ]
    },
    {
     "name": "stdout",
     "output_type": "stream",
     "text": [
      "rbf svc score: 0.5732\n"
     ]
    },
    {
     "name": "stderr",
     "output_type": "stream",
     "text": [
      "/anaconda3/lib/python3.6/site-packages/sklearn/svm/base.py:196: FutureWarning: The default value of gamma will change from 'auto' to 'scale' in version 0.22 to account better for unscaled features. Set gamma explicitly to 'auto' or 'scale' to avoid this warning.\n",
      "  \"avoid this warning.\", FutureWarning)\n",
      "/anaconda3/lib/python3.6/site-packages/sklearn/svm/base.py:196: FutureWarning: The default value of gamma will change from 'auto' to 'scale' in version 0.22 to account better for unscaled features. Set gamma explicitly to 'auto' or 'scale' to avoid this warning.\n",
      "  \"avoid this warning.\", FutureWarning)\n",
      "/anaconda3/lib/python3.6/site-packages/sklearn/svm/base.py:196: FutureWarning: The default value of gamma will change from 'auto' to 'scale' in version 0.22 to account better for unscaled features. Set gamma explicitly to 'auto' or 'scale' to avoid this warning.\n",
      "  \"avoid this warning.\", FutureWarning)\n",
      "/anaconda3/lib/python3.6/site-packages/sklearn/svm/base.py:196: FutureWarning: The default value of gamma will change from 'auto' to 'scale' in version 0.22 to account better for unscaled features. Set gamma explicitly to 'auto' or 'scale' to avoid this warning.\n",
      "  \"avoid this warning.\", FutureWarning)\n",
      "/anaconda3/lib/python3.6/site-packages/sklearn/svm/base.py:196: FutureWarning: The default value of gamma will change from 'auto' to 'scale' in version 0.22 to account better for unscaled features. Set gamma explicitly to 'auto' or 'scale' to avoid this warning.\n",
      "  \"avoid this warning.\", FutureWarning)\n",
      "/anaconda3/lib/python3.6/site-packages/sklearn/svm/base.py:196: FutureWarning: The default value of gamma will change from 'auto' to 'scale' in version 0.22 to account better for unscaled features. Set gamma explicitly to 'auto' or 'scale' to avoid this warning.\n",
      "  \"avoid this warning.\", FutureWarning)\n",
      "/anaconda3/lib/python3.6/site-packages/sklearn/svm/base.py:196: FutureWarning: The default value of gamma will change from 'auto' to 'scale' in version 0.22 to account better for unscaled features. Set gamma explicitly to 'auto' or 'scale' to avoid this warning.\n",
      "  \"avoid this warning.\", FutureWarning)\n",
      "/anaconda3/lib/python3.6/site-packages/sklearn/svm/base.py:196: FutureWarning: The default value of gamma will change from 'auto' to 'scale' in version 0.22 to account better for unscaled features. Set gamma explicitly to 'auto' or 'scale' to avoid this warning.\n",
      "  \"avoid this warning.\", FutureWarning)\n",
      "/anaconda3/lib/python3.6/site-packages/sklearn/svm/base.py:196: FutureWarning: The default value of gamma will change from 'auto' to 'scale' in version 0.22 to account better for unscaled features. Set gamma explicitly to 'auto' or 'scale' to avoid this warning.\n",
      "  \"avoid this warning.\", FutureWarning)\n",
      "/anaconda3/lib/python3.6/site-packages/sklearn/svm/base.py:196: FutureWarning: The default value of gamma will change from 'auto' to 'scale' in version 0.22 to account better for unscaled features. Set gamma explicitly to 'auto' or 'scale' to avoid this warning.\n",
      "  \"avoid this warning.\", FutureWarning)\n"
     ]
    },
    {
     "name": "stdout",
     "output_type": "stream",
     "text": [
      "Average rbf score is 0.5648461923817457 \n",
      "\n",
      "poly svc score: 0.5028\n"
     ]
    },
    {
     "name": "stderr",
     "output_type": "stream",
     "text": [
      "/anaconda3/lib/python3.6/site-packages/sklearn/svm/base.py:196: FutureWarning: The default value of gamma will change from 'auto' to 'scale' in version 0.22 to account better for unscaled features. Set gamma explicitly to 'auto' or 'scale' to avoid this warning.\n",
      "  \"avoid this warning.\", FutureWarning)\n",
      "/anaconda3/lib/python3.6/site-packages/sklearn/svm/base.py:196: FutureWarning: The default value of gamma will change from 'auto' to 'scale' in version 0.22 to account better for unscaled features. Set gamma explicitly to 'auto' or 'scale' to avoid this warning.\n",
      "  \"avoid this warning.\", FutureWarning)\n",
      "/anaconda3/lib/python3.6/site-packages/sklearn/svm/base.py:196: FutureWarning: The default value of gamma will change from 'auto' to 'scale' in version 0.22 to account better for unscaled features. Set gamma explicitly to 'auto' or 'scale' to avoid this warning.\n",
      "  \"avoid this warning.\", FutureWarning)\n",
      "/anaconda3/lib/python3.6/site-packages/sklearn/svm/base.py:196: FutureWarning: The default value of gamma will change from 'auto' to 'scale' in version 0.22 to account better for unscaled features. Set gamma explicitly to 'auto' or 'scale' to avoid this warning.\n",
      "  \"avoid this warning.\", FutureWarning)\n",
      "/anaconda3/lib/python3.6/site-packages/sklearn/svm/base.py:196: FutureWarning: The default value of gamma will change from 'auto' to 'scale' in version 0.22 to account better for unscaled features. Set gamma explicitly to 'auto' or 'scale' to avoid this warning.\n",
      "  \"avoid this warning.\", FutureWarning)\n",
      "/anaconda3/lib/python3.6/site-packages/sklearn/svm/base.py:196: FutureWarning: The default value of gamma will change from 'auto' to 'scale' in version 0.22 to account better for unscaled features. Set gamma explicitly to 'auto' or 'scale' to avoid this warning.\n",
      "  \"avoid this warning.\", FutureWarning)\n",
      "/anaconda3/lib/python3.6/site-packages/sklearn/svm/base.py:196: FutureWarning: The default value of gamma will change from 'auto' to 'scale' in version 0.22 to account better for unscaled features. Set gamma explicitly to 'auto' or 'scale' to avoid this warning.\n",
      "  \"avoid this warning.\", FutureWarning)\n",
      "/anaconda3/lib/python3.6/site-packages/sklearn/svm/base.py:196: FutureWarning: The default value of gamma will change from 'auto' to 'scale' in version 0.22 to account better for unscaled features. Set gamma explicitly to 'auto' or 'scale' to avoid this warning.\n",
      "  \"avoid this warning.\", FutureWarning)\n",
      "/anaconda3/lib/python3.6/site-packages/sklearn/svm/base.py:196: FutureWarning: The default value of gamma will change from 'auto' to 'scale' in version 0.22 to account better for unscaled features. Set gamma explicitly to 'auto' or 'scale' to avoid this warning.\n",
      "  \"avoid this warning.\", FutureWarning)\n",
      "/anaconda3/lib/python3.6/site-packages/sklearn/svm/base.py:196: FutureWarning: The default value of gamma will change from 'auto' to 'scale' in version 0.22 to account better for unscaled features. Set gamma explicitly to 'auto' or 'scale' to avoid this warning.\n",
      "  \"avoid this warning.\", FutureWarning)\n",
      "/anaconda3/lib/python3.6/site-packages/sklearn/svm/base.py:196: FutureWarning: The default value of gamma will change from 'auto' to 'scale' in version 0.22 to account better for unscaled features. Set gamma explicitly to 'auto' or 'scale' to avoid this warning.\n",
      "  \"avoid this warning.\", FutureWarning)\n"
     ]
    },
    {
     "name": "stdout",
     "output_type": "stream",
     "text": [
      "Average poly score is 0.48755550726999475 \n",
      "\n"
     ]
    },
    {
     "name": "stderr",
     "output_type": "stream",
     "text": [
      "/anaconda3/lib/python3.6/site-packages/sklearn/svm/base.py:196: FutureWarning: The default value of gamma will change from 'auto' to 'scale' in version 0.22 to account better for unscaled features. Set gamma explicitly to 'auto' or 'scale' to avoid this warning.\n",
      "  \"avoid this warning.\", FutureWarning)\n"
     ]
    },
    {
     "name": "stdout",
     "output_type": "stream",
     "text": [
      "sigmoid svc score: 0.4972\n"
     ]
    },
    {
     "name": "stderr",
     "output_type": "stream",
     "text": [
      "/anaconda3/lib/python3.6/site-packages/sklearn/svm/base.py:196: FutureWarning: The default value of gamma will change from 'auto' to 'scale' in version 0.22 to account better for unscaled features. Set gamma explicitly to 'auto' or 'scale' to avoid this warning.\n",
      "  \"avoid this warning.\", FutureWarning)\n",
      "/anaconda3/lib/python3.6/site-packages/sklearn/svm/base.py:196: FutureWarning: The default value of gamma will change from 'auto' to 'scale' in version 0.22 to account better for unscaled features. Set gamma explicitly to 'auto' or 'scale' to avoid this warning.\n",
      "  \"avoid this warning.\", FutureWarning)\n",
      "/anaconda3/lib/python3.6/site-packages/sklearn/svm/base.py:196: FutureWarning: The default value of gamma will change from 'auto' to 'scale' in version 0.22 to account better for unscaled features. Set gamma explicitly to 'auto' or 'scale' to avoid this warning.\n",
      "  \"avoid this warning.\", FutureWarning)\n",
      "/anaconda3/lib/python3.6/site-packages/sklearn/svm/base.py:196: FutureWarning: The default value of gamma will change from 'auto' to 'scale' in version 0.22 to account better for unscaled features. Set gamma explicitly to 'auto' or 'scale' to avoid this warning.\n",
      "  \"avoid this warning.\", FutureWarning)\n",
      "/anaconda3/lib/python3.6/site-packages/sklearn/svm/base.py:196: FutureWarning: The default value of gamma will change from 'auto' to 'scale' in version 0.22 to account better for unscaled features. Set gamma explicitly to 'auto' or 'scale' to avoid this warning.\n",
      "  \"avoid this warning.\", FutureWarning)\n",
      "/anaconda3/lib/python3.6/site-packages/sklearn/svm/base.py:196: FutureWarning: The default value of gamma will change from 'auto' to 'scale' in version 0.22 to account better for unscaled features. Set gamma explicitly to 'auto' or 'scale' to avoid this warning.\n",
      "  \"avoid this warning.\", FutureWarning)\n",
      "/anaconda3/lib/python3.6/site-packages/sklearn/svm/base.py:196: FutureWarning: The default value of gamma will change from 'auto' to 'scale' in version 0.22 to account better for unscaled features. Set gamma explicitly to 'auto' or 'scale' to avoid this warning.\n",
      "  \"avoid this warning.\", FutureWarning)\n",
      "/anaconda3/lib/python3.6/site-packages/sklearn/svm/base.py:196: FutureWarning: The default value of gamma will change from 'auto' to 'scale' in version 0.22 to account better for unscaled features. Set gamma explicitly to 'auto' or 'scale' to avoid this warning.\n",
      "  \"avoid this warning.\", FutureWarning)\n",
      "/anaconda3/lib/python3.6/site-packages/sklearn/svm/base.py:196: FutureWarning: The default value of gamma will change from 'auto' to 'scale' in version 0.22 to account better for unscaled features. Set gamma explicitly to 'auto' or 'scale' to avoid this warning.\n",
      "  \"avoid this warning.\", FutureWarning)\n",
      "/anaconda3/lib/python3.6/site-packages/sklearn/svm/base.py:196: FutureWarning: The default value of gamma will change from 'auto' to 'scale' in version 0.22 to account better for unscaled features. Set gamma explicitly to 'auto' or 'scale' to avoid this warning.\n",
      "  \"avoid this warning.\", FutureWarning)\n"
     ]
    },
    {
     "name": "stdout",
     "output_type": "stream",
     "text": [
      "Average sigmoid score is 0.5124444927300053 \n",
      "\n"
     ]
    }
   ],
   "source": [
    "#accuracy rbf kernel\n",
    "print(\"scoring=accuracy\")\n",
    "asvc=SVC()\n",
    "asvc.fit(X_train,y_train)\n",
    "print(\"rbf svc score: %.4f\" % asvc.score(X_test, y_test))\n",
    "rbfscores = cross_val_score(asvc, X_train, y_train, cv=10, scoring='accuracy')\n",
    "#print (scores)\n",
    "print (\"Average rbf score is \" + str(rbfscores.mean()), \"\\n\")\n",
    "\n",
    "#linear kernel\n",
    "#alinsvc=SVC(kernel='linear')\n",
    "#alinsvc.fit(X_train,y_train)\n",
    "#print(\"linear svc score: %.4f\" % alinsvc.score(X_test, y_test))\n",
    "#linearscores = cross_val_score(alinsvc, X_train, y_train, cv=10, scoring='accuracy')\n",
    "#print (scores)\n",
    "#print (\"Average linear score is \" + str(linearscores.mean()), \"\\n\")\n",
    "\n",
    "#poly kernel\n",
    "apolysvc=SVC(kernel='poly')\n",
    "apolysvc.fit(X_train,y_train)\n",
    "print(\"poly svc score: %.4f\" % apolysvc.score(X_test, y_test))\n",
    "polyscores = cross_val_score(apolysvc, X_train, y_train, cv=10, scoring='accuracy')\n",
    "#print (scores)\n",
    "print (\"Average poly score is \" + str(polyscores.mean()), \"\\n\")\n",
    "\n",
    "#sigmoid kernel\n",
    "asigsvc=SVC(kernel='sigmoid')\n",
    "asigsvc.fit(X_train,y_train)\n",
    "print(\"sigmoid svc score: %.4f\" % asigsvc.score(X_test, y_test))\n",
    "sigmoidscores = cross_val_score(asigsvc, X_train, y_train, cv=10, scoring='accuracy')\n",
    "#print (scores)\n",
    "print (\"Average sigmoid score is \" + str(sigmoidscores.mean()), \"\\n\")\n"
   ]
  },
  {
   "cell_type": "code",
   "execution_count": null,
   "metadata": {},
   "outputs": [],
   "source": [
    "#do cross val for scoring=precision, recall, f1score"
   ]
  },
  {
   "cell_type": "code",
   "execution_count": 21,
   "metadata": {},
   "outputs": [
    {
     "name": "stderr",
     "output_type": "stream",
     "text": [
      "/anaconda3/lib/python3.6/site-packages/sklearn/svm/base.py:196: FutureWarning: The default value of gamma will change from 'auto' to 'scale' in version 0.22 to account better for unscaled features. Set gamma explicitly to 'auto' or 'scale' to avoid this warning.\n",
      "  \"avoid this warning.\", FutureWarning)\n"
     ]
    },
    {
     "name": "stdout",
     "output_type": "stream",
     "text": [
      "precision rbf:  0.6401673640167364\n",
      "recall rbf:  0.345372460496614\n",
      "f1 rbf:  0.4486803519061583\n",
      "precision poly:  0.5028376844494892\n",
      "recall rbf:  1.0\n",
      "f1 rbf:  0.6691842900302115\n"
     ]
    },
    {
     "name": "stderr",
     "output_type": "stream",
     "text": [
      "/anaconda3/lib/python3.6/site-packages/sklearn/svm/base.py:196: FutureWarning: The default value of gamma will change from 'auto' to 'scale' in version 0.22 to account better for unscaled features. Set gamma explicitly to 'auto' or 'scale' to avoid this warning.\n",
      "  \"avoid this warning.\", FutureWarning)\n",
      "/anaconda3/lib/python3.6/site-packages/sklearn/svm/base.py:196: FutureWarning: The default value of gamma will change from 'auto' to 'scale' in version 0.22 to account better for unscaled features. Set gamma explicitly to 'auto' or 'scale' to avoid this warning.\n",
      "  \"avoid this warning.\", FutureWarning)\n"
     ]
    },
    {
     "name": "stdout",
     "output_type": "stream",
     "text": [
      "precision sigmoid:  0.0\n",
      "recall rbf:  0.0\n",
      "f1 rbf:  0.0\n"
     ]
    },
    {
     "name": "stderr",
     "output_type": "stream",
     "text": [
      "/anaconda3/lib/python3.6/site-packages/sklearn/metrics/classification.py:1143: UndefinedMetricWarning: Precision is ill-defined and being set to 0.0 due to no predicted samples.\n",
      "  'precision', 'predicted', average, warn_for)\n",
      "/anaconda3/lib/python3.6/site-packages/sklearn/metrics/classification.py:1143: UndefinedMetricWarning: F-score is ill-defined and being set to 0.0 due to no predicted samples.\n",
      "  'precision', 'predicted', average, warn_for)\n"
     ]
    }
   ],
   "source": [
    "#recall rbf kernel\n",
    "\n",
    "svc=SVC()\n",
    "svc.fit(X_train,y_train)\n",
    "rbfsvcpred = svc.predict(X_test)\n",
    "precision_rbf_svc = precision_score(y_test, rbfsvcpred)\n",
    "recall_rbf_svc = recall_score(y_test, rbfsvcpred)\n",
    "f1_rbf_svc = f1_score(y_test, rbfsvcpred)\n",
    "print(\"precision rbf: \", precision_rbf_svc)\n",
    "print(\"recall rbf: \", recall_rbf_svc)\n",
    "print(\"f1 rbf: \", f1_rbf_svc)\n",
    "\n",
    "#linear kernel\n",
    "#linsvc=SVC(kernel='linear')\n",
    "#linsvc.fit(X_train,y_train)\n",
    "#linsvcpred = linsvc.predict(X_test)\n",
    "#precision_linear_svc = precision_score(y_test, linsvcpred)\n",
    "#recall_linear_svc = recall_score(y_test, linsvcpred)\n",
    "#f1_linear_svc = f1_score(y_test, linsvcpred)\n",
    "#print(\"precision linear: \", precision_linear_svc)\n",
    "#print(\"recall rbf: \", recall_linear_svc)\n",
    "#print(\"f1 rbf: \", f1_linear_svc)\n",
    "\n",
    "#poly kernel\n",
    "polysvc=SVC(kernel='poly')\n",
    "polysvc.fit(X_train,y_train)\n",
    "polysvcpred = polysvc.predict(X_test)\n",
    "precision_poly_svc = precision_score(y_test, polysvcpred)\n",
    "recall_poly_svc = recall_score(y_test, polysvcpred)\n",
    "f1_poly_svc = f1_score(y_test, polysvcpred)\n",
    "print(\"precision poly: \", precision_poly_svc)\n",
    "print(\"recall rbf: \", recall_poly_svc)\n",
    "print(\"f1 rbf: \", f1_poly_svc)\n",
    "\n",
    "#sigmoid kernel\n",
    "sigsvc=SVC(kernel='sigmoid')\n",
    "sigsvc.fit(X_train,y_train)\n",
    "sigsvcpred = sigsvc.predict(X_test)\n",
    "precision_sig_svc = precision_score(y_test, sigsvcpred)\n",
    "recall_sig_svc = recall_score(y_test, sigsvcpred)\n",
    "f1_sig_svc = f1_score(y_test, sigsvcpred)\n",
    "print(\"precision sigmoid: \", precision_sig_svc)\n",
    "print(\"recall rbf: \", recall_sig_svc)\n",
    "print(\"f1 rbf: \", f1_sig_svc)\n"
   ]
  },
  {
   "cell_type": "code",
   "execution_count": null,
   "metadata": {},
   "outputs": [],
   "source": []
  },
  {
   "cell_type": "code",
   "execution_count": 27,
   "metadata": {},
   "outputs": [
    {
     "data": {
      "image/png": "[encoded data removed]",
      "text/plain": [
       "<Figure size 432x288 with 1 Axes>"
      ]
     },
     "metadata": {
      "needs_background": "light"
     },
     "output_type": "display_data"
    }
   ],
   "source": [
    "N = 3\n",
    "\n",
    "ind = np.arange(N)\n",
    "width = 0.15\n",
    "fig, ax = plt.subplots()\n",
    "\n",
    "#accu = [rbfscores.mean(), linearscores.mean(), polyscores.mean(), sigmoidscores.mean()]\n",
    "#rects1 = ax.bar(ind, accu, width, color='b')\n",
    "#prec = [precision_rbf_svc, precision_linear_svc, precision_poly_svc, precision_sig_svc]\n",
    "#rects2 = ax.bar(ind+width, prec, width, color='y')\n",
    "#rec = [recall_rbf_svc, recall_linear_svc, recall_poly_svc, recall_sig_svc]\n",
    "#rects3 = ax.bar(ind + width * width, rec, width, color='r')\n",
    "#f1score = [f1_rbf_svc, f1_linear_svc, f1_poly_svc, f1_sig_svc]\n",
    "#rects4 = ax.bar(ind+ 2 * width, f1score,  width, color='g')\n",
    "\n",
    "\n",
    "accu = [rbfscores.mean(), polyscores.mean(), sigmoidscores.mean()]\n",
    "rects1 = ax.bar(ind, accu, width, color='b')\n",
    "prec = [precision_rbf_svc, precision_poly_svc, precision_sig_svc]\n",
    "rects2 = ax.bar(ind+width, prec, width, color='y')\n",
    "rec = [recall_rbf_svc, recall_poly_svc, recall_sig_svc]\n",
    "rects3 = ax.bar(ind + 2 * width, rec, width, color='r')\n",
    "f1score = [f1_rbf_svc, f1_poly_svc, f1_sig_svc]\n",
    "rects4 = ax.bar(ind+ 3 * width, f1score,  width, color='g')\n",
    "#f1score = [f1_rbf_svc, f1_linear_svc, f1_poly_svc, f1_sig_svc]\n",
    "#rects4 = ax.bar(ind+ 3 * width, f1score,  width, color='g')\n",
    "\n",
    "\n",
    "ax.set_ylabel('Score')\n",
    "ax.set_title('SVM Accuracy')\n",
    "ax.set_xticks(ind + 1.5*width)\n",
    "#ax.set_xticklabels(('RBF', 'Linear', 'Poly', 'Sigmoid'))\n",
    "ax.set_xticklabels(('RBF', 'Poly', 'Sigmoid'))\n",
    "ax.set_xlabel('Kernel')\n",
    "ax.legend((rects1[0], rects2[0], rects3[0],rects4[0]), ('Accuracy', 'Precision', 'Recall','f1 Score'), loc=4)\n",
    "\n",
    "plt.show()"
   ]
  },
  {
   "cell_type": "code",
   "execution_count": null,
   "metadata": {},
   "outputs": [],
   "source": [
    "#svc w/ C, degree, tol, max_iter, decision_function_shape"
   ]
  },
  {
   "cell_type": "code",
   "execution_count": null,
   "metadata": {},
   "outputs": [],
   "source": [
    "svc=SVC(C=0.05)\n",
    "svc.fit(X_train,y_train)\n",
    "rbfsvcpred1 = svc.predict(X_test)\n",
    "rbfscores1 = cross_val_score(svc, X_train, y_train, cv=10, scoring='accuracy')\n",
    "precision_rbf_svc1 = precision_score(y_test, rbfsvcpred1)\n",
    "recall_rbf_svc1 = recall_score(y_test, rbfsvcpred1)\n",
    "f1_rbf_svc1 = f1_score(y_test, rbfsvcpred1)\n",
    "print(\"precision rbf: \", precision_rbf_svc1)\n",
    "print(\"recall rbf: \", recall_rbf_svc1)\n",
    "print(\"f1 rbf: \", f1_rbf_svc1)\n",
    "\n",
    "svc=SVC(C=0.1)\n",
    "svc.fit(X_train,y_train)\n",
    "rbfsvcpred1 = svc.predict(X_test)\n",
    "rbfscores1 = cross_val_score(svc, X_train, y_train, cv=10, scoring='accuracy')\n",
    "precision_rbf_svc1 = precision_score(y_test, rbfsvcpred1)\n",
    "recall_rbf_svc1 = recall_score(y_test, rbfsvcpred1)\n",
    "f1_rbf_svc1 = f1_score(y_test, rbfsvcpred1)\n",
    "print(\"precision rbf: \", precision_rbf_svc1)\n",
    "print(\"recall rbf: \", recall_rbf_svc1)\n",
    "print(\"f1 rbf: \", f1_rbf_svc1)"
   ]
  },
  {
   "cell_type": "code",
   "execution_count": null,
   "metadata": {},
   "outputs": [],
   "source": []
  },
  {
   "cell_type": "code",
   "execution_count": null,
   "metadata": {},
   "outputs": [],
   "source": []
  },
  {
   "cell_type": "code",
   "execution_count": null,
   "metadata": {},
   "outputs": [],
   "source": []
  },
  {
   "cell_type": "code",
   "execution_count": null,
   "metadata": {},
   "outputs": [],
   "source": []
  },
  {
   "cell_type": "code",
   "execution_count": null,
   "metadata": {},
   "outputs": [],
   "source": [
    "weights = linsvc.coef_[0]\n",
    "importances = np.abs(weights)\n",
    "\n",
    "indices = np.argsort(importances)[::-1]\n",
    "print(\"Feature ranking:\")\n",
    "\n",
    "for f in range(X.shape[1]):\n",
    "    print(\"%d. feature %d (%f)\" % (f + 1, indices[f], importances[indices[f]]))\n",
    "\n",
    "# Plot the feature importances of the forest\n",
    "plt.figure()\n",
    "plt.title(\"Feature importances\")\n",
    "plt.ylabel(\"Score\")\n",
    "plt.xlabel(\"Label\")\n",
    "plt.bar(range(X.shape[1]), importances[indices],\n",
    "       color=\"r\", align=\"center\")\n",
    "plt.xticks(range(X.shape[1]), indices)\n",
    "plt.xlim([-1, X.shape[1]])\n",
    "plt.show()"
   ]
  },
  {
   "cell_type": "code",
   "execution_count": null,
   "metadata": {},
   "outputs": [],
   "source": []
  }
 ],
 "metadata": {
  "kernelspec": {
   "display_name": "Python 3",
   "language": "python",
   "name": "python3"
  },
  "language_info": {
   "codemirror_mode": {
    "name": "ipython",
    "version": 3
   },
   "file_extension": ".py",
   "mimetype": "text/x-python",
   "name": "python",
   "nbconvert_exporter": "python",
   "pygments_lexer": "ipython3",
   "version": "3.6.6"
  }
 },
 "nbformat": 4,
 "nbformat_minor": 2
}
