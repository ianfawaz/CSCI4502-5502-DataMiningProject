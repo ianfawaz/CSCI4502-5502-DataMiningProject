{
 "cells": [
  {
   "cell_type": "code",
   "execution_count": 2,
   "metadata": {},
   "outputs": [],
   "source": [
    "import numpy as np\n",
    "from sklearn.linear_model import LinearRegression\n",
    "import pandas as pd\n",
    "import matplotlib.pyplot as plt\n",
    "from sklearn.metrics import mean_squared_error\n",
    "from sklearn.metrics import r2_score\n",
    "from sklearn.ensemble import RandomForestRegressor\n",
    "from sklearn.model_selection import cross_val_score\n",
    "from sklearn.metrics import average_precision_score\n",
    "from sklearn.metrics import precision_recall_curve\n",
    "from sklearn.utils.fixes import signature\n",
    "from sklearn.metrics import recall_score\n",
    "from sklearn.metrics import precision_score\n",
    "from sklearn.metrics import f1_score\n",
    "from sklearn.ensemble import RandomForestClassifier"
   ]
  },
  {
   "cell_type": "code",
   "execution_count": 3,
   "metadata": {},
   "outputs": [],
   "source": [
    "cleanmeta = pd.read_csv(\"actormetaMonths.csv\")\n",
    "cleanmeta = cleanmeta[['budget','revenue','popularity','runtime','castRevBudRatio','january','february','march','april','may','june','july','august','september','october','november','december']]\n",
    "cleanmeta = cleanmeta.dropna()\n",
    "cleanmeta = cleanmeta.reset_index()\n",
    "X = cleanmeta.values\n",
    "y = cleanmeta['revenue']/cleanmeta['budget'].values"
   ]
  },
  {
   "cell_type": "code",
   "execution_count": 4,
   "metadata": {},
   "outputs": [],
   "source": [
    "X_train = X[:4500]\n",
    "X_test = X[4500:]\n",
    "\n",
    "y_train = y[:4500]\n",
    "y_test = y[4500:]"
   ]
  },
  {
   "cell_type": "code",
   "execution_count": 5,
   "metadata": {},
   "outputs": [],
   "source": [
    "#2 is near median of y\n",
    "for i in range(0,len(y)):\n",
    "    if y[i] > 2:\n",
    "        y[i] = 0 #success\n",
    "    else:\n",
    "        y[i] = 1 #failure"
   ]
  },
  {
   "cell_type": "code",
   "execution_count": 6,
   "metadata": {},
   "outputs": [
    {
     "data": {
      "text/plain": [
       "'\\nn_estimators\\nThe number of trees in the forest.\\n'"
      ]
     },
     "execution_count": 6,
     "metadata": {},
     "output_type": "execute_result"
    }
   ],
   "source": [
    "\"\"\"\n",
    "n_estimators\n",
    "The number of trees in the forest.\n",
    "\"\"\""
   ]
  },
  {
   "cell_type": "code",
   "execution_count": 7,
   "metadata": {
    "scrolled": true
   },
   "outputs": [],
   "source": [
    "rf_100 = RandomForestClassifier(n_estimators=100)#, max_depth=2, random_state=0)\n",
    "rf_100.fit(X_train, y_train)\n",
    "y_pred_100 = rf_100.predict(X_test)\n",
    "scores_100 = cross_val_score(rf_100, X_test, y_test, cv=10).mean()\n",
    "r_100 =recall_score(y_test, y_pred_100)  \n",
    "p_100 =precision_score(y_test, y_pred_100)  \n",
    "f1_100 =f1_score(y_test, y_pred_100)"
   ]
  },
  {
   "cell_type": "code",
   "execution_count": 8,
   "metadata": {},
   "outputs": [],
   "source": [
    "rf_200 = RandomForestClassifier(n_estimators=200)\n",
    "rf_200.fit(X_train, y_train)\n",
    "y_pred_200 = rf_200.predict(X_test)\n",
    "scores_200 = cross_val_score(rf_200, X_test, y_test, cv=10).mean()\n",
    "r_200 =recall_score(y_test, y_pred_200)  \n",
    "p_200 =precision_score(y_test, y_pred_200)  \n",
    "f1_200 =f1_score(y_test, y_pred_200)"
   ]
  },
  {
   "cell_type": "code",
   "execution_count": 9,
   "metadata": {},
   "outputs": [],
   "source": [
    "rf_300 = RandomForestClassifier(n_estimators=300)\n",
    "rf_300.fit(X_train, y_train)\n",
    "y_pred_300 = rf_300.predict(X_test)\n",
    "scores_300 = cross_val_score(rf_300, X_test, y_test, cv=10).mean()\n",
    "r_300 =recall_score(y_test, y_pred_300)  \n",
    "p_300 =precision_score(y_test, y_pred_300)  \n",
    "f1_300 =f1_score(y_test, y_pred_300)"
   ]
  },
  {
   "cell_type": "code",
   "execution_count": 10,
   "metadata": {},
   "outputs": [],
   "source": [
    "rf_400 = RandomForestClassifier(n_estimators=400)\n",
    "rf_400.fit(X_train, y_train)\n",
    "y_pred_400 = rf_400.predict(X_test)\n",
    "scores_400 = cross_val_score(rf_400, X_test, y_test, cv=10).mean()\n",
    "r_400 =recall_score(y_test, y_pred_400)  \n",
    "p_400 =precision_score(y_test, y_pred_400)  \n",
    "f1_400 =f1_score(y_test, y_pred_400)"
   ]
  },
  {
   "cell_type": "code",
   "execution_count": 11,
   "metadata": {
    "scrolled": true
   },
   "outputs": [
    {
     "data": {
      "image/png": "[encoded data removed]",
      "text/plain": [
       "<Figure size 432x288 with 1 Axes>"
      ]
     },
     "metadata": {
      "needs_background": "light"
     },
     "output_type": "display_data"
    }
   ],
   "source": [
    "N = 4\n",
    "\n",
    "ind = np.arange(N)\n",
    "width = 0.15\n",
    "fig, ax = plt.subplots()\n",
    "\n",
    "accu = [scores_100,scores_200,scores_300,scores_400]\n",
    "rects1 = ax.bar(ind, accu, width, color='b')\n",
    "prec = [p_100,p_200,p_300,p_400]\n",
    "rects2 = ax.bar(ind+width, prec, width, color='y')\n",
    "rec = [r_100,r_200,r_300,r_400]\n",
    "rects3 = ax.bar(ind + 2 * width, rec, width, color='r')\n",
    "f1score = [f1_100,f1_200,f1_300,f1_400]\n",
    "rects4 = ax.bar(ind+ 3 * width, f1score,  width, color='g')\n",
    "\n",
    "ax.set_ylabel('Score')\n",
    "ax.set_xlabel('n_estimator')\n",
    "ax.set_title('Scores for diffrent n_estimators')\n",
    "ax.set_xticks(ind + 1.5*width)\n",
    "ax.set_xticklabels(('100', '200','300','400'))\n",
    "ax.legend((rects1[0], rects2[0], rects3[0],rects4[0]), ('Accuracy', 'Precision', 'Recall','f1 Score'),loc=4)\n",
    "plt.show()"
   ]
  },
  {
   "cell_type": "markdown",
   "metadata": {},
   "source": [
    "n_estimators=300 has highest accuracy 0.8786069235555869"
   ]
  },
  {
   "cell_type": "code",
   "execution_count": 12,
   "metadata": {},
   "outputs": [
    {
     "data": {
      "text/plain": [
       "'\\nMax features\\n'"
      ]
     },
     "execution_count": 12,
     "metadata": {},
     "output_type": "execute_result"
    }
   ],
   "source": [
    "\"\"\"\n",
    "Max features\n",
    "\"\"\""
   ]
  },
  {
   "cell_type": "code",
   "execution_count": 13,
   "metadata": {
    "scrolled": true
   },
   "outputs": [],
   "source": [
    "rf = RandomForestClassifier(n_estimators=100)# default auto, sqrt\n",
    "rf.fit(X_train, y_train)\n",
    "y_pred = rf.predict(X_test)\n",
    "scores = cross_val_score(rf, X_test, y_test, cv=10).mean()\n",
    "r =recall_score(y_test, y_pred)  \n",
    "p =precision_score(y_test, y_pred)  \n",
    "f1 =f1_score(y_test, y_pred)\n"
   ]
  },
  {
   "cell_type": "code",
   "execution_count": 14,
   "metadata": {},
   "outputs": [],
   "source": [
    "rf_log2 = RandomForestClassifier(n_estimators=100, max_features = 'log2')\n",
    "rf_log2.fit(X_train, y_train)\n",
    "y_pred_log2 = rf_log2.predict(X_test)\n",
    "scores_log2 = cross_val_score(rf_log2, X_test, y_test, cv=10).mean()\n",
    "r_log2 =recall_score(y_test, y_pred_log2)  \n",
    "p_log2 =precision_score(y_test, y_pred_log2)  \n",
    "f1_log2 =f1_score(y_test, y_pred_log2)"
   ]
  },
  {
   "cell_type": "code",
   "execution_count": 15,
   "metadata": {},
   "outputs": [],
   "source": [
    "rf_none = RandomForestClassifier(n_estimators=100, max_features = None)\n",
    "rf_none.fit(X_train, y_train)\n",
    "y_pred_none = rf_none.predict(X_test)\n",
    "scores_none = cross_val_score(rf_none, X_test, y_test, cv=10).mean()\n",
    "r_none =recall_score(y_test, y_pred_none)  \n",
    "p_none =precision_score(y_test, y_pred_none)  \n",
    "f1_none =f1_score(y_test, y_pred_none)"
   ]
  },
  {
   "cell_type": "code",
   "execution_count": 21,
   "metadata": {
    "scrolled": true
   },
   "outputs": [
    {
     "data": {
      "image/png": "[encoded data removed]",
      "text/plain": [
       "<Figure size 432x288 with 1 Axes>"
      ]
     },
     "metadata": {
      "needs_background": "light"
     },
     "output_type": "display_data"
    }
   ],
   "source": [
    "N = 3\n",
    "\n",
    "ind = np.arange(N)\n",
    "width = 0.15\n",
    "fig, ax = plt.subplots()\n",
    "\n",
    "accu = [scores,scores_log2,scores_none]\n",
    "rects1 = ax.bar(ind, accu, width, color='b')\n",
    "prec = [p,p_log2,p_none]\n",
    "rects2 = ax.bar(ind+width, prec, width, color='y')\n",
    "rec = [r,r_log2,r_none]\n",
    "rects3 = ax.bar(ind + 2 * width, rec, width, color='r')\n",
    "f1score = [f1,f1_log2,f1_none]\n",
    "rects4 = ax.bar(ind+ 3 * width, f1score,  width, color='g')\n",
    "\n",
    "ax.set_ylabel('Score')\n",
    "ax.set_xlabel('max_feature')\n",
    "ax.set_title('Scores for diffrent max features')\n",
    "ax.set_xticks(ind + 1.5*width)\n",
    "ax.set_xticklabels(('sqrt','log2','none'))\n",
    "ax.legend((rects1[0], rects2[0], rects3[0],rects4[0]), ('Accuracy', 'Precision', 'Recall','f1 Score'),loc=4)\n",
    "\n",
    "plt.show()"
   ]
  },
  {
   "cell_type": "code",
   "execution_count": 17,
   "metadata": {
    "scrolled": true
   },
   "outputs": [
    {
     "data": {
      "text/plain": [
       "[0.8706523781010415, 0.8682766252216079, 0.9444179787021708]"
      ]
     },
     "execution_count": 17,
     "metadata": {},
     "output_type": "execute_result"
    }
   ],
   "source": [
    "accu"
   ]
  },
  {
   "cell_type": "markdown",
   "metadata": {},
   "source": [
    "Max feature = none outperform others by about 10%   "
   ]
  },
  {
   "cell_type": "code",
   "execution_count": 18,
   "metadata": {},
   "outputs": [],
   "source": [
    "rf = RandomForestClassifier(n_estimators=100,max_features = None)# default auto, sqrt\n",
    "rf.fit(X_train, y_train)\n",
    "y_pred = rf.predict(X_test)\n",
    "scores = cross_val_score(rf, X_test, y_test, cv=10).mean()\n",
    "r =recall_score(y_test, y_pred)  \n",
    "p =precision_score(y_test, y_pred)  \n",
    "f1 =f1_score(y_test, y_pred)\n",
    "#print(scores)"
   ]
  },
  {
   "cell_type": "code",
   "execution_count": 22,
   "metadata": {},
   "outputs": [
    {
     "data": {
      "image/png": "[encoded data removed]",
      "text/plain": [
       "<Figure size 432x288 with 1 Axes>"
      ]
     },
     "metadata": {
      "needs_background": "light"
     },
     "output_type": "display_data"
    }
   ],
   "source": [
    "objects = scores,p,r,f1\n",
    "y_pos = np.arange(len(objects))\n",
    " \n",
    "plt.bar(y_pos, objects, align='center', alpha=0.5)\n",
    "plt.xticks([0, 1, 2, 3], [\"accuracy\", \"precision\", \"recall\", \"f1-score\"])\n",
    "plt.ylabel('Score')\n",
    "plt.xlabel('Model')\n",
    "plt.title('Random Forest Model Scores')\n",
    " \n",
    "plt.show()"
   ]
  },
  {
   "cell_type": "code",
   "execution_count": 23,
   "metadata": {
    "scrolled": true
   },
   "outputs": [
    {
     "name": "stdout",
     "output_type": "stream",
     "text": [
      "Feature ranking:\n",
      "1. feature 2 (0.591750)\n",
      "2. feature 1 (0.376188)\n",
      "3. feature 0 (0.006754)\n",
      "4. feature 5 (0.006388)\n",
      "5. feature 3 (0.005938)\n",
      "6. feature 4 (0.005490)\n",
      "7. feature 14 (0.001093)\n",
      "8. feature 13 (0.000980)\n",
      "9. feature 6 (0.000863)\n",
      "10. feature 15 (0.000755)\n",
      "11. feature 8 (0.000738)\n",
      "12. feature 16 (0.000520)\n",
      "13. feature 12 (0.000461)\n",
      "14. feature 17 (0.000451)\n",
      "15. feature 9 (0.000449)\n",
      "16. feature 7 (0.000443)\n",
      "17. feature 11 (0.000393)\n",
      "18. feature 10 (0.000348)\n"
     ]
    },
    {
     "data": {
      "image/png": "[encoded data removed]",
      "text/plain": [
       "<Figure size 432x288 with 1 Axes>"
      ]
     },
     "metadata": {
      "needs_background": "light"
     },
     "output_type": "display_data"
    }
   ],
   "source": [
    "# Build a forest and compute the feature importances\n",
    "\n",
    "importances = rf.feature_importances_\n",
    "std = np.std([tree.feature_importances_ for tree in rf.estimators_],\n",
    "             axis=0)\n",
    "indices = np.argsort(importances)[::-1]\n",
    "\n",
    "# Print the feature ranking\n",
    "print(\"Feature ranking:\")\n",
    "\n",
    "for f in range(X.shape[1]):\n",
    "    print(\"%d. feature %d (%f)\" % (f + 1, indices[f], importances[indices[f]]))\n",
    "\n",
    "# Plot the feature importances of the forest\n",
    "plt.figure()\n",
    "plt.title(\"Feature importances\")\n",
    "plt.xlabel('Score')\n",
    "plt.ylabel(\"Feature ID\")\n",
    "plt.bar(range(X.shape[1]), importances[indices],\n",
    "       color=\"r\", yerr=std[indices], align=\"center\")\n",
    "plt.xticks(range(X.shape[1]), indices)\n",
    "plt.xlim([-1, X.shape[1]])\n",
    "plt.show()"
   ]
  },
  {
   "cell_type": "markdown",
   "metadata": {},
   "source": [
    "Feature ranking:\n",
    "1. feature 2 (0.592096)\n",
    "2. feature 1 (0.377328) "
   ]
  },
  {
   "cell_type": "code",
   "execution_count": null,
   "metadata": {},
   "outputs": [],
   "source": []
  }
 ],
 "metadata": {
  "kernelspec": {
   "display_name": "Python 3",
   "language": "python",
   "name": "python3"
  },
  "language_info": {
   "codemirror_mode": {
    "name": "ipython",
    "version": 3
   },
   "file_extension": ".py",
   "mimetype": "text/x-python",
   "name": "python",
   "nbconvert_exporter": "python",
   "pygments_lexer": "ipython3",
   "version": "3.6.6"
  }
 },
 "nbformat": 4,
 "nbformat_minor": 2
}
